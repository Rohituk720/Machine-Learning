{
 "cells": [
  {
   "cell_type": "markdown",
   "metadata": {},
   "source": [
    "# Name : Rohit Kulkarni USC ID : 5402749044"
   ]
  },
  {
   "cell_type": "code",
   "execution_count": 75,
   "metadata": {},
   "outputs": [],
   "source": [
    "import pandas as pd\n",
    "import numpy as np\n",
    "from sklearn.model_selection import train_test_split\n",
    "from sklearn.preprocessing import StandardScaler,normalize,MinMaxScaler\n",
    "from sklearn.model_selection import KFold\n",
    "from sklearn import svm\n",
    "from sklearn.svm import SVC\n",
    "from sklearn.model_selection import GridSearchCV\n",
    "import matplotlib.pyplot as plt\n",
    "import random\n",
    "from sklearn.metrics import accuracy_score, precision_score, f1_score, recall_score,confusion_matrix\n",
    "from sklearn import metrics\n",
    "from sklearn.cluster import KMeans\n",
    "import warnings\n",
    "warnings.filterwarnings('ignore')\n",
    "from sklearn import cluster, datasets\n",
    "import copy\n",
    "from sklearn.cluster import SpectralClustering\n",
    "import networkx as nx"
   ]
  },
  {
   "cell_type": "code",
   "execution_count": 76,
   "metadata": {},
   "outputs": [],
   "source": [
    "columns = [\"ID number\",\"Diagnosis\",\"Mean Radius\",\"Mean Texture\",\"Mean Perimeter\",\"Mean Area\",\"Mean Smoothness\",\"Mean Compactness\",\"Mean Concavity\",\"Mean Concave Points\",\"Mean Symmetry\",\"Mean Fractal Dimension\",\"Radius SE\",\"Texture SE\",\"Perimeter SE\",\"Area SE\",\"Smoothness SE\",\"Compactness SE\",\"Concavity SE\",\"Concave Points SE\",\"Symmetry SE\",\"Fractal Dimension SE\",\"Worst Radius\",\"Worst Texture\",\"Worst Perimeter\",\"Worst Area\",\"Worst Smoothness\",\"Worst Compactness\",\"Worst Concavity\",\"Worst Concave Points\",\"Worst Symmetry\",\"Worst Fractal Dimension\"]\n",
    "data = pd.read_csv(\"wdbc.data\", names=columns, header=None)"
   ]
  },
  {
   "cell_type": "code",
   "execution_count": 77,
   "metadata": {},
   "outputs": [],
   "source": [
    "positive = data.loc[data['Diagnosis'] == 'M'].reset_index()\n",
    "negative = data.loc[data['Diagnosis'] == 'B'].reset_index()\n",
    "positive = positive.drop([\"index\"],axis=1)\n",
    "negative = negative.drop([\"index\"],axis=1)"
   ]
  },
  {
   "cell_type": "markdown",
   "metadata": {},
   "source": [
    "1.b.i) Supervised Learning"
   ]
  },
  {
   "cell_type": "code",
   "execution_count": 123,
   "metadata": {},
   "outputs": [],
   "source": [
    "test_error_total=[]\n",
    "best_c=[]\n",
    "accuracy_scores=[]\n",
    "precision_scores=[]\n",
    "f_scores=[]\n",
    "recall_scores=[]\n",
    "auc_values=[]"
   ]
  },
  {
   "cell_type": "code",
   "execution_count": 137,
   "metadata": {},
   "outputs": [],
   "source": [
    "for i in range(0,30):\n",
    "    p_Training_data,p_Test_data=train_test_split(positive,test_size=0.2,random_state=i)\n",
    "    n_Training_data,n_Test_data=train_test_split(negative,test_size=0.2,random_state=i)\n",
    "    full_Training=pd.concat([p_Training_data,n_Training_data])\n",
    "    full_test=pd.concat([p_Test_data,n_Test_data])\n",
    "    X_train=full_Training.iloc[:,2:32]\n",
    "    Y_train=full_Training.iloc[:,1:2].values.ravel()\n",
    "    X_test=full_test.iloc[:,2:32]\n",
    "    Y_test=full_test.iloc[:,1:2].values.ravel()\n",
    "    scaler = MinMaxScaler()\n",
    "    scaler.fit(X_train)\n",
    "    X_train_nor=scaler.transform(X_train)\n",
    "    scaler = MinMaxScaler()\n",
    "    scaler.fit(X_test)\n",
    "    X_test_nor=scaler.transform(X_test)\n",
    "    C_range = np.logspace(-2,10,13)\n",
    "    parameters_grid = dict(C=C_range)\n",
    "    svc = svm.LinearSVC(penalty='l1',dual=False,max_iter=200000)\n",
    "    cv=KFold(5)\n",
    "    clf = GridSearchCV(svc,iid=False,param_grid=parameters_grid,cv=cv)\n",
    "    clf.fit(X_train_nor, Y_train)\n",
    "    y_pred = clf.predict(X_test_nor)\n",
    "    score = round(clf.score(X_test_nor, Y_test),3)    \n",
    "    best_c.append(clf.best_params_)\n",
    "    test_error_total.append(score)\n",
    "    accuracy_scores.append(accuracy_score(Y_test, y_pred))\n",
    "    precision_scores.append(precision_score(Y_test,y_pred,average='micro'))\n",
    "    recall_scores.append(recall_score(Y_test,y_pred,average='micro'))\n",
    "    f_scores.append(f1_score(Y_test,y_pred,average='micro'))\n",
    "    Y_test_binary=np.unique(Y_test, return_inverse=True)[1].tolist()\n",
    "    Y_pred_binary=np.unique(y_pred, return_inverse=True)[1].tolist()\n",
    "    fpr, tpr, thresholds = metrics.roc_curve(Y_test_binary, Y_pred_binary)\n",
    "    auc_values.append(metrics.auc(fpr, tpr))"
   ]
  },
  {
   "cell_type": "code",
   "execution_count": 147,
   "metadata": {},
   "outputs": [
    {
     "name": "stdout",
     "output_type": "stream",
     "text": [
      "Test errors : [0.878, 0.739, 0.835, 0.878, 0.765, 0.957, 0.852, 0.826, 0.957, 0.93, 0.93, 0.852, 0.922, 0.852, 0.939, 0.765, 0.896, 0.896, 0.722, 0.939, 0.765, 0.896, 0.896, 0.722, 0.939, 0.765, 0.896, 0.896, 0.722]\n",
      "Best C : [{'C': 1000.0}, {'C': 10.0}, {'C': 100.0}, {'C': 10.0}, {'C': 10.0}, {'C': 100.0}, {'C': 100.0}, {'C': 10.0}, {'C': 1.0}, {'C': 10.0}, {'C': 10.0}, {'C': 100.0}, {'C': 1.0}, {'C': 1.0}, {'C': 10.0}, {'C': 10.0}, {'C': 10.0}, {'C': 10.0}, {'C': 10.0}, {'C': 10.0}, {'C': 10.0}, {'C': 10.0}, {'C': 10.0}, {'C': 10.0}, {'C': 10.0}, {'C': 10.0}, {'C': 10.0}, {'C': 10.0}, {'C': 10.0}]\n"
     ]
    }
   ],
   "source": [
    "print(\"Test errors :\",test_error_total)\n",
    "print(\"Best C :\",best_c)"
   ]
  },
  {
   "cell_type": "code",
   "execution_count": 148,
   "metadata": {},
   "outputs": [
    {
     "name": "stdout",
     "output_type": "stream",
     "text": [
      "Average accuracy scores : Average Accuracy    0.856072\n",
      "dtype: float64\n"
     ]
    }
   ],
   "source": [
    "accuracy_df = pd.DataFrame(data = accuracy_scores , columns=['Average Accuracy'])\n",
    "print(\"Average accuracy scores :\",accuracy_df.mean())"
   ]
  },
  {
   "cell_type": "code",
   "execution_count": 149,
   "metadata": {},
   "outputs": [
    {
     "name": "stdout",
     "output_type": "stream",
     "text": [
      "Average precision scores : Average Precision    0.856072\n",
      "dtype: float64\n"
     ]
    }
   ],
   "source": [
    "precision_df = pd.DataFrame(data = precision_scores , columns=['Average Precision'])\n",
    "print(\"Average precision scores :\",precision_df.mean())"
   ]
  },
  {
   "cell_type": "code",
   "execution_count": 150,
   "metadata": {},
   "outputs": [
    {
     "name": "stdout",
     "output_type": "stream",
     "text": [
      "Average recall scores : Average Recall    0.856072\n",
      "dtype: float64\n"
     ]
    }
   ],
   "source": [
    "recall_df = pd.DataFrame(data = recall_scores , columns=['Average Recall'])\n",
    "print(\"Average recall scores :\",recall_df.mean())"
   ]
  },
  {
   "cell_type": "code",
   "execution_count": 151,
   "metadata": {},
   "outputs": [
    {
     "name": "stdout",
     "output_type": "stream",
     "text": [
      "Average F scores : Average F score    0.856072\n",
      "dtype: float64\n"
     ]
    }
   ],
   "source": [
    "f_df = pd.DataFrame(data = f_scores , columns=['Average F score'])\n",
    "print(\"Average F scores :\",f_df.mean())"
   ]
  },
  {
   "cell_type": "code",
   "execution_count": 152,
   "metadata": {},
   "outputs": [
    {
     "name": "stdout",
     "output_type": "stream",
     "text": [
      "Average AUC scores : Average AUC values    0.880859\n",
      "dtype: float64\n"
     ]
    }
   ],
   "source": [
    "auc_df = pd.DataFrame(data = auc_values , columns=['Average AUC values'])\n",
    "print(\"Average AUC scores :\",auc_df.mean())"
   ]
  },
  {
   "cell_type": "code",
   "execution_count": 155,
   "metadata": {},
   "outputs": [
    {
     "data": {
      "image/png": "[encoded data removed]",
      "text/plain": [
       "<Figure size 720x360 with 1 Axes>"
      ]
     },
     "metadata": {
      "needs_background": "light"
     },
     "output_type": "display_data"
    }
   ],
   "source": [
    "plt.figure(figsize=(10,5))\n",
    "plt.plot(fpr, tpr, color='darkorange', label='ROC curve (area = %0.2f)' % metrics.auc(fpr, tpr))\n",
    "plt.plot([0, 1], [0, 1], color='navy', linestyle='--')\n",
    "plt.xlim([0.0, 1.0])\n",
    "plt.ylim([0.0, 1.05])\n",
    "plt.xlabel('False Positive Rate')\n",
    "plt.ylabel('True Positive Rate')\n",
    "plt.title('Receiver operating characteristic')\n",
    "plt.legend(loc=\"lower right\")\n",
    "plt.show()"
   ]
  },
  {
   "cell_type": "code",
   "execution_count": 154,
   "metadata": {},
   "outputs": [
    {
     "name": "stdout",
     "output_type": "stream",
     "text": [
      "Confusion Matrix\n"
     ]
    },
    {
     "data": {
      "text/plain": [
       "array([[40, 32],\n",
       "       [ 0, 43]], dtype=int64)"
      ]
     },
     "execution_count": 154,
     "metadata": {},
     "output_type": "execute_result"
    }
   ],
   "source": [
    "print (\"Confusion Matrix\")\n",
    "confusion_matrix(Y_test, y_pred)"
   ]
  },
  {
   "cell_type": "markdown",
   "metadata": {},
   "source": [
    "1.b.ii) Semi-Supervised Learning/ Self-training"
   ]
  },
  {
   "cell_type": "markdown",
   "metadata": {},
   "source": [
    "1.b.ii.a) & 1.b.ii.b)"
   ]
  },
  {
   "cell_type": "code",
   "execution_count": 13,
   "metadata": {},
   "outputs": [],
   "source": [
    "test_error_total1=[]\n",
    "best_c1=[]\n",
    "accuracy_scores1=[]\n",
    "precision_scores1=[]\n",
    "f_scores1=[]\n",
    "recall_scores1=[]\n",
    "auc_values1=[]\n",
    "columns1=['Diagnosis']\n",
    "columns2=[\"Mean Radius\",\"Mean Texture\",\"Mean Perimeter\",\"Mean Area\",\"Mean Smoothness\",\"Mean Compactness\",\"Mean Concavity\",\"Mean Concave Points\",\"Mean Symmetry\",\"Mean Fractal Dimension\",\"Radius SE\",\"Texture SE\",\"Perimeter SE\",\"Area SE\",\"Smoothness SE\",\"Compactness SE\",\"Concavity SE\",\"Concave Points SE\",\"Symmetry SE\",\"Fractal Dimension SE\",\"Worst Radius\",\"Worst Texture\",\"Worst Perimeter\",\"Worst Area\",\"Worst Smoothness\",\"Worst Compactness\",\"Worst Concavity\",\"Worst Concave Points\",\"Worst Symmetry\",\"Worst Fractal Dimension\"]"
   ]
  },
  {
   "cell_type": "code",
   "execution_count": 156,
   "metadata": {},
   "outputs": [],
   "source": [
    "for i in range(0,30):\n",
    "    p_Labeling_data,p_Unlabel_data=train_test_split(positive,test_size=0.5,random_state=i)\n",
    "    n_Labeling_data,n_Unlabel_data=train_test_split(negative,test_size=0.5,random_state=i)\n",
    "    full_Labeling=pd.concat([p_Labeling_data,n_Labeling_data])\n",
    "    full_unlabel=pd.concat([p_Unlabel_data,n_Unlabel_data])\n",
    "    X_label=full_Labeling.iloc[:,2:32]\n",
    "    Y_label=full_Labeling.iloc[:,1:2].values.ravel()\n",
    "    X_unlabel=full_unlabel.iloc[:,2:32]\n",
    "    Y_unlabel=full_unlabel.iloc[:,1:2].values.ravel()\n",
    "    scaler = MinMaxScaler()\n",
    "    scaler.fit(X_label)\n",
    "    X_label_nor=scaler.transform(X_label)\n",
    "    scaler = MinMaxScaler()\n",
    "    scaler.fit(X_unlabel)\n",
    "    X_unlabel_nor=scaler.transform(X_unlabel)\n",
    "    C_range = np.logspace(-2,10,13)\n",
    "    parameters_grid = dict(C=C_range)\n",
    "    svc = svm.LinearSVC(penalty='l1',dual=False,max_iter=200000)\n",
    "    cv=KFold(5)\n",
    "    clf = GridSearchCV(svc,iid=False,param_grid=parameters_grid,cv=5)\n",
    "    svc.fit(X_label_nor, Y_label)\n",
    "    distance_from_margin = svc.decision_function(X_unlabel)\n",
    "    distance_from_margin = list(distance_from_margin)\n",
    "    distance_from_margin = [round(i,3) for i in distance_from_margin]\n",
    "    distance_from_margin = map(abs, distance_from_margin)\n",
    "    dist_df = pd.DataFrame(data = list(distance_from_margin) , columns=['distance'])\n",
    "    Y_unlabel_df=pd.DataFrame(Y_unlabel,columns=['Diagnosis'])\n",
    "    X_unlabel.reset_index(drop=True, inplace=True)\n",
    "    dist_df.reset_index(drop=True, inplace=True)\n",
    "    Y_unlabel_df.reset_index(drop=True, inplace=True)\n",
    "    unlabel_data_dist = pd.concat([X_unlabel,Y_unlabel_df,dist_df], axis=1,)\n",
    "    unlabel_data_dist_sorted = unlabel_data_dist.sort_values(['distance'], ascending=False)\n",
    "    unlabel_data_sorted = unlabel_data_dist_sorted.drop('distance', axis=1)\n",
    "    unlabel_data_sorted_train = unlabel_data_sorted.drop('Diagnosis',axis=1)\n",
    "    X_label_nor_df=pd.DataFrame(X_label_nor,columns=columns2)\n",
    "    Y_label_nor_df=pd.DataFrame(Y_label,columns=columns1)\n",
    "    for row in unlabel_data_sorted_train.iterrows():\n",
    "        x_test = unlabel_data_sorted_train.iloc[:1,:]\n",
    "        svc = svm.LinearSVC(penalty='l1',dual=False,max_iter=200000)\n",
    "        svc.fit(X_label_nor, Y_label)\n",
    "        y_test = svc.predict(x_test)\n",
    "        y_test=pd.DataFrame(y_test,columns=columns1)\n",
    "        X_label_nor_df = pd.concat([X_label_nor_df,x_test],axis=0)\n",
    "        Y_label_nor_df = pd.concat([Y_label_nor_df,y_test],axis=0)\n",
    "        unlabel_data_sorted_train=unlabel_data_sorted_train.drop(unlabel_data_sorted_train.index[0])\n",
    "    svc.fit(X_label_nor_df, Y_label_nor_df)\n",
    "    clf.fit(X_label_nor_df, Y_label_nor_df)\n",
    "    y_pred = svc.predict(X_unlabel_nor)\n",
    "    score = round(clf.score(X_unlabel_nor, Y_unlabel),3)    \n",
    "    best_c1.append(clf.best_params_)\n",
    "    test_error_total1.append(score)\n",
    "    accuracy_scores1.append(accuracy_score(Y_unlabel, y_pred))\n",
    "    precision_scores1.append(precision_score(Y_unlabel,y_pred,average='micro'))\n",
    "    recall_scores1.append(recall_score(Y_unlabel,y_pred,average='micro'))\n",
    "    f_scores1.append(f1_score(Y_unlabel,y_pred,average='micro'))\n",
    "    Y_unlabel_binary=np.unique(Y_unlabel, return_inverse=True)[1].tolist()\n",
    "    Y_pred_binary=np.unique(y_pred, return_inverse=True)[1].tolist()\n",
    "    fpr1, tpr1, thresholds1 = metrics.roc_curve(Y_unlabel_binary, Y_pred_binary)\n",
    "    auc_values1.append(metrics.auc(fpr1, tpr1))"
   ]
  },
  {
   "cell_type": "code",
   "execution_count": 157,
   "metadata": {},
   "outputs": [
    {
     "name": "stdout",
     "output_type": "stream",
     "text": [
      "Test errors : [0.94, 0.944, 0.951, 0.937, 0.919, 0.947, 0.835, 0.958, 0.744, 0.972, 0.881, 0.923, 0.916, 0.874, 0.853, 0.898, 0.895, 0.961, 0.919, 0.972, 0.958, 0.965, 0.961, 0.853, 0.874, 0.874, 0.919, 0.919, 0.821, 0.965, 0.954, 0.916, 0.951, 0.926, 0.961, 0.94, 0.839]\n",
      "Best C : [{'C': 10000.0}, {'C': 1.0}, {'C': 1000000.0}, {'C': 1.0}, {'C': 10000.0}, {'C': 10.0}, {'C': 10.0}, {'C': 1.0}, {'C': 100.0}, {'C': 10.0}, {'C': 100000.0}, {'C': 100000.0}, {'C': 1.0}, {'C': 100000000.0}, {'C': 10.0}, {'C': 1.0}, {'C': 100000.0}, {'C': 1.0}, {'C': 1000000.0}, {'C': 10.0}, {'C': 10.0}, {'C': 1.0}, {'C': 1.0}, {'C': 10000000.0}, {'C': 10.0}, {'C': 10000.0}, {'C': 10.0}, {'C': 10.0}, {'C': 100.0}, {'C': 10000.0}, {'C': 1.0}, {'C': 100000.0}, {'C': 10000000000.0}, {'C': 1.0}, {'C': 10.0}, {'C': 10.0}, {'C': 10000.0}]\n"
     ]
    }
   ],
   "source": [
    "print(\"Test errors :\",test_error_total1)\n",
    "print(\"Best C :\",best_c1)"
   ]
  },
  {
   "cell_type": "code",
   "execution_count": 158,
   "metadata": {},
   "outputs": [
    {
     "name": "stdout",
     "output_type": "stream",
     "text": [
      "Average accuracy scores : Average Accuracy    0.948601\n",
      "dtype: float64\n"
     ]
    }
   ],
   "source": [
    "accuracy_df1 = pd.DataFrame(data = accuracy_scores1 , columns=['Average Accuracy'])\n",
    "print(\"Average accuracy scores :\",accuracy_df1.mean())"
   ]
  },
  {
   "cell_type": "code",
   "execution_count": 159,
   "metadata": {},
   "outputs": [
    {
     "name": "stdout",
     "output_type": "stream",
     "text": [
      "Average precision scores : Average Precision    0.948601\n",
      "dtype: float64\n"
     ]
    }
   ],
   "source": [
    "precision_df1 = pd.DataFrame(data = precision_scores1 , columns=['Average Precision'])\n",
    "print(\"Average precision scores :\",precision_df1.mean())"
   ]
  },
  {
   "cell_type": "code",
   "execution_count": 160,
   "metadata": {},
   "outputs": [
    {
     "name": "stdout",
     "output_type": "stream",
     "text": [
      "Average recall scores : Average Recall    0.948601\n",
      "dtype: float64\n"
     ]
    }
   ],
   "source": [
    "recall_df1 = pd.DataFrame(data = recall_scores1 , columns=['Average Recall'])\n",
    "print(\"Average recall scores :\",recall_df1.mean())"
   ]
  },
  {
   "cell_type": "code",
   "execution_count": 161,
   "metadata": {},
   "outputs": [
    {
     "name": "stdout",
     "output_type": "stream",
     "text": [
      "Average F scores : Average F score    0.948601\n",
      "dtype: float64\n"
     ]
    }
   ],
   "source": [
    "f_df1 = pd.DataFrame(data = f_scores1 , columns=['Average F score'])\n",
    "print(\"Average F scores :\",f_df1.mean())"
   ]
  },
  {
   "cell_type": "code",
   "execution_count": 162,
   "metadata": {},
   "outputs": [
    {
     "name": "stdout",
     "output_type": "stream",
     "text": [
      "Average AUC scores : Average AUC values    0.941665\n",
      "dtype: float64\n"
     ]
    }
   ],
   "source": [
    "auc_df1 = pd.DataFrame(data = auc_values1 , columns=['Average AUC values'])\n",
    "print(\"Average AUC scores :\",auc_df1.mean())"
   ]
  },
  {
   "cell_type": "code",
   "execution_count": 163,
   "metadata": {},
   "outputs": [
    {
     "data": {
      "image/png": "[encoded data removed]",
      "text/plain": [
       "<Figure size 720x360 with 1 Axes>"
      ]
     },
     "metadata": {
      "needs_background": "light"
     },
     "output_type": "display_data"
    }
   ],
   "source": [
    "plt.figure(figsize=(10,5))\n",
    "plt.plot(fpr1, tpr1, color='darkorange', label='ROC curve (area = %0.2f)' % metrics.auc(fpr1, tpr1))\n",
    "plt.plot([0, 1], [0, 1], color='navy', linestyle='--')\n",
    "plt.xlim([0.0, 1.0])\n",
    "plt.ylim([0.0, 1.05])\n",
    "plt.xlabel('False Positive Rate')\n",
    "plt.ylabel('True Positive Rate')\n",
    "plt.title('Receiver operating characteristic')\n",
    "plt.legend(loc=\"lower right\")\n",
    "plt.show()"
   ]
  },
  {
   "cell_type": "code",
   "execution_count": 164,
   "metadata": {},
   "outputs": [
    {
     "name": "stdout",
     "output_type": "stream",
     "text": [
      "Confusion Matrix\n"
     ]
    },
    {
     "data": {
      "text/plain": [
       "array([[175,   4],\n",
       "       [  3, 103]], dtype=int64)"
      ]
     },
     "execution_count": 164,
     "metadata": {},
     "output_type": "execute_result"
    }
   ],
   "source": [
    "print (\"Confusion Matrix\")\n",
    "confusion_matrix(Y_unlabel, y_pred)"
   ]
  },
  {
   "cell_type": "markdown",
   "metadata": {},
   "source": [
    "1.b.iii) Unsupervised Learning"
   ]
  },
  {
   "cell_type": "code",
   "execution_count": 23,
   "metadata": {},
   "outputs": [],
   "source": [
    "test_error_total2=[]\n",
    "best_c2=[]\n",
    "accuracy_scores2=[]\n",
    "precision_scores2=[]\n",
    "f_scores2=[]\n",
    "recall_scores2=[]\n",
    "auc_values2=[]"
   ]
  },
  {
   "cell_type": "code",
   "execution_count": 24,
   "metadata": {},
   "outputs": [],
   "source": [
    "test_error_total3=[]\n",
    "best_c3=[]\n",
    "accuracy_scores3=[]\n",
    "precision_scores3=[]\n",
    "f_scores3=[]\n",
    "recall_scores3=[]\n",
    "auc_values3=[]"
   ]
  },
  {
   "cell_type": "code",
   "execution_count": 81,
   "metadata": {},
   "outputs": [],
   "source": [
    "for i in range(0,30):\n",
    "    p_Training_data,p_Test_data=train_test_split(positive,test_size=0.2,random_state=i)\n",
    "    n_Training_data,n_Test_data=train_test_split(negative,test_size=0.2,random_state=i)\n",
    "    full_Training=pd.concat([p_Training_data,n_Training_data])\n",
    "    full_test=pd.concat([p_Test_data,n_Test_data])\n",
    "    X_train=full_Training.iloc[:,2:32]\n",
    "    Y_train=full_Training.iloc[:,1:2]\n",
    "    k_means = KMeans(n_clusters=2, n_init=50)\n",
    "    k_means.fit(X_train)\n",
    "    cluster_indices = {i: np.where(k_means.labels_ == i)[0] for i in range(k_means.n_clusters)}\n",
    "    indexes_cluster1 = list(cluster_indices[0])\n",
    "    indexes_cluster2 = list(cluster_indices[1])\n",
    "    dist_from_centers = k_means.transform(X_train)\n",
    "    dist_from_centers_df = pd.DataFrame(data=dist_from_centers,columns=['C1','C2'])\n",
    "    dist_from_centers_df = dist_from_centers_df.sort_values(['C1'], ascending=[1])\n",
    "    dist_from_center1 = dist_from_centers_df.drop('C2',axis=1)\n",
    "    dist_from_center2_to_be = dist_from_centers_df['C2']\n",
    "    dist_from_center2 = dist_from_center2_to_be.to_frame()\n",
    "    dist_from_center2 = dist_from_center2.sort_values(['C2'], ascending=[1])\n",
    "    closest_30_C1 = dist_from_center1.iloc[:30,:]\n",
    "    closest_30_C2 = dist_from_center2.iloc[:30,:]\n",
    "    indexes_1 = closest_30_C1.index.tolist()\n",
    "    indexes_2 = closest_30_C2.index.tolist()\n",
    "    Y_train.reset_index(drop=True, inplace=True)\n",
    "    K_means_ylabel_c1 = Y_train.iloc[indexes_1]\n",
    "    K_means_ylabel_c2 = Y_train.iloc[indexes_2]\n",
    "    c1_label = K_means_ylabel_c1['Diagnosis'].value_counts().idxmax()\n",
    "    c2_label = K_means_ylabel_c2['Diagnosis'].value_counts().idxmax()\n",
    "    Y_train.reset_index(drop=True, inplace=True)\n",
    "    y_pred=copy.deepcopy(Y_train)\n",
    "    y_pred.iloc[indexes_cluster1] = c1_label\n",
    "    y_pred.iloc[indexes_cluster2] = c2_label\n",
    "    accuracy_scores2.append(accuracy_score(Y_train, y_pred))\n",
    "    precision_scores2.append(precision_score(Y_train,y_pred,average='micro'))\n",
    "    recall_scores2.append(recall_score(Y_train,y_pred,average='micro'))\n",
    "    f_scores2.append(f1_score(Y_train,y_pred,average='micro'))\n",
    "    Y_unlabel_binary=np.unique(Y_train, return_inverse=True)[1].tolist()\n",
    "    Y_pred_binary=np.unique(y_pred, return_inverse=True)[1].tolist()\n",
    "    fpr2, tpr2, thresholds2 = metrics.roc_curve(Y_unlabel_binary, Y_pred_binary)\n",
    "    auc_values2.append(metrics.auc(fpr2, tpr2))\n",
    "    X_test=full_test.iloc[:,2:32]\n",
    "    Y_test=full_test.iloc[:,1:2].values.ravel()\n",
    "    dist_from_centers_test = k_means.transform(X_test)\n",
    "    dist_from_centers_df_test = pd.DataFrame(data=dist_from_centers_test,columns=['Cluster1','Cluster2'])\n",
    "    labels = dist_from_centers_df_test.apply(lambda x: x.argmin(), axis=1)\n",
    "    columns3 = ['Diagnosis']\n",
    "    labels_df = pd.DataFrame(labels,columns=columns3)\n",
    "    pred_labels_1 = labels_df['Diagnosis'].replace({'Cluster1':c1_label,'Cluster2':c2_label})\n",
    "    pred_labels = pred_labels_1.to_frame()\n",
    "    accuracy_scores3.append(accuracy_score(Y_test, pred_labels))\n",
    "    precision_scores3.append(precision_score(Y_test,pred_labels,average='micro'))\n",
    "    recall_scores3.append(recall_score(Y_test,pred_labels,average='micro'))\n",
    "    f_scores3.append(f1_score(Y_test,pred_labels,average='micro'))\n",
    "    Y_unlabel_binary1=np.unique(Y_test, return_inverse=True)[1].tolist()\n",
    "    Y_pred_binary1=np.unique(pred_labels, return_inverse=True)[1].tolist()\n",
    "    fpr3, tpr3, thresholds3 = metrics.roc_curve(Y_unlabel_binary1, Y_pred_binary1)\n",
    "    auc_values3.append(metrics.auc(fpr3, tpr3))"
   ]
  },
  {
   "cell_type": "code",
   "execution_count": 82,
   "metadata": {},
   "outputs": [
    {
     "name": "stdout",
     "output_type": "stream",
     "text": [
      "Average accuracy scores : Average Accuracy    0.849717\n",
      "dtype: float64\n"
     ]
    }
   ],
   "source": [
    "accuracy_df2 = pd.DataFrame(data = accuracy_scores2 , columns=['Average Accuracy'])\n",
    "print(\"Average accuracy scores :\",accuracy_df2.mean())"
   ]
  },
  {
   "cell_type": "code",
   "execution_count": 83,
   "metadata": {},
   "outputs": [
    {
     "name": "stdout",
     "output_type": "stream",
     "text": [
      "Average precision scores : Average Precision    0.849717\n",
      "dtype: float64\n"
     ]
    }
   ],
   "source": [
    "precision_df2 = pd.DataFrame(data = precision_scores2 , columns=['Average Precision'])\n",
    "print(\"Average precision scores :\",precision_df2.mean())"
   ]
  },
  {
   "cell_type": "code",
   "execution_count": 84,
   "metadata": {},
   "outputs": [
    {
     "name": "stdout",
     "output_type": "stream",
     "text": [
      "Average recall scores : Average Recall    0.849717\n",
      "dtype: float64\n"
     ]
    }
   ],
   "source": [
    "recall_df2 = pd.DataFrame(data = recall_scores2 , columns=['Average Recall'])\n",
    "print(\"Average recall scores :\",recall_df2.mean())"
   ]
  },
  {
   "cell_type": "code",
   "execution_count": 85,
   "metadata": {},
   "outputs": [
    {
     "name": "stdout",
     "output_type": "stream",
     "text": [
      "Average F scores : Average F score    0.849717\n",
      "dtype: float64\n"
     ]
    }
   ],
   "source": [
    "f_df2 = pd.DataFrame(data = f_scores2 , columns=['Average F score'])\n",
    "print(\"Average F scores :\",f_df2.mean())"
   ]
  },
  {
   "cell_type": "code",
   "execution_count": 86,
   "metadata": {},
   "outputs": [
    {
     "name": "stdout",
     "output_type": "stream",
     "text": [
      "Average AUC scores : Average AUC values    0.799\n",
      "dtype: float64\n"
     ]
    }
   ],
   "source": [
    "auc_df2 = pd.DataFrame(data = auc_values2 , columns=['Average AUC values'])\n",
    "print(\"Average AUC scores :\",auc_df2.mean())"
   ]
  },
  {
   "cell_type": "code",
   "execution_count": 87,
   "metadata": {},
   "outputs": [
    {
     "data": {
      "image/png": "[encoded data removed]",
      "text/plain": [
       "<Figure size 720x360 with 1 Axes>"
      ]
     },
     "metadata": {
      "needs_background": "light"
     },
     "output_type": "display_data"
    }
   ],
   "source": [
    "plt.figure(figsize=(10,5))\n",
    "plt.plot(fpr2, tpr2, color='darkorange', label='ROC curve (area = %0.2f)' % metrics.auc(fpr2, tpr2))\n",
    "plt.plot([0, 1], [0, 1], color='navy', linestyle='--')\n",
    "plt.xlim([0.0, 1.0])\n",
    "plt.ylim([0.0, 1.05])\n",
    "plt.xlabel('False Positive Rate')\n",
    "plt.ylabel('True Positive Rate')\n",
    "plt.title('Receiver operating characteristic')\n",
    "plt.legend(loc=\"lower right\")\n",
    "plt.show()"
   ]
  },
  {
   "cell_type": "code",
   "execution_count": 88,
   "metadata": {},
   "outputs": [
    {
     "name": "stdout",
     "output_type": "stream",
     "text": [
      "Confusion Matrix\n"
     ]
    },
    {
     "data": {
      "text/plain": [
       "array([[285,   0],\n",
       "       [ 70,  99]], dtype=int64)"
      ]
     },
     "execution_count": 88,
     "metadata": {},
     "output_type": "execute_result"
    }
   ],
   "source": [
    "print (\"Confusion Matrix\")\n",
    "confusion_matrix(Y_train, y_pred)"
   ]
  },
  {
   "cell_type": "code",
   "execution_count": 89,
   "metadata": {},
   "outputs": [
    {
     "name": "stdout",
     "output_type": "stream",
     "text": [
      "Average accuracy scores : Average Accuracy    0.850683\n",
      "dtype: float64\n"
     ]
    }
   ],
   "source": [
    "accuracy_df3 = pd.DataFrame(data = accuracy_scores3 , columns=['Average Accuracy'])\n",
    "print(\"Average accuracy scores :\",accuracy_df3.mean())"
   ]
  },
  {
   "cell_type": "code",
   "execution_count": 90,
   "metadata": {},
   "outputs": [
    {
     "name": "stdout",
     "output_type": "stream",
     "text": [
      "Average precision scores : Average Precision    0.850683\n",
      "dtype: float64\n"
     ]
    }
   ],
   "source": [
    "precision_df3 = pd.DataFrame(data = precision_scores3 , columns=['Average Precision'])\n",
    "print(\"Average precision scores :\",precision_df3.mean())"
   ]
  },
  {
   "cell_type": "code",
   "execution_count": 91,
   "metadata": {},
   "outputs": [
    {
     "name": "stdout",
     "output_type": "stream",
     "text": [
      "Average recall scores : Average Recall    0.850683\n",
      "dtype: float64\n"
     ]
    }
   ],
   "source": [
    "recall_df3 = pd.DataFrame(data = recall_scores3 , columns=['Average Recall'])\n",
    "print(\"Average recall scores :\",recall_df3.mean())"
   ]
  },
  {
   "cell_type": "code",
   "execution_count": 92,
   "metadata": {},
   "outputs": [
    {
     "name": "stdout",
     "output_type": "stream",
     "text": [
      "Average F scores : Average F score    0.850683\n",
      "dtype: float64\n"
     ]
    }
   ],
   "source": [
    "f_df3 = pd.DataFrame(data = f_scores3 , columns=['Average F score'])\n",
    "print(\"Average F scores :\",f_df3.mean())"
   ]
  },
  {
   "cell_type": "code",
   "execution_count": 93,
   "metadata": {},
   "outputs": [
    {
     "name": "stdout",
     "output_type": "stream",
     "text": [
      "Average AUC scores : Average AUC values    0.801403\n",
      "dtype: float64\n"
     ]
    }
   ],
   "source": [
    "auc_df3 = pd.DataFrame(data = auc_values3 , columns=['Average AUC values'])\n",
    "print(\"Average AUC scores :\",auc_df3.mean())"
   ]
  },
  {
   "cell_type": "code",
   "execution_count": 139,
   "metadata": {},
   "outputs": [
    {
     "data": {
      "image/png": "[encoded data removed]",
      "text/plain": [
       "<Figure size 720x360 with 1 Axes>"
      ]
     },
     "metadata": {
      "needs_background": "light"
     },
     "output_type": "display_data"
    }
   ],
   "source": [
    "plt.figure(figsize=(10,5))\n",
    "plt.plot(fpr3, tpr3, color='darkorange', label='ROC curve (area = %0.2f)' % metrics.auc(fpr3, tpr3))\n",
    "plt.plot([0, 1], [0, 1], color='navy', linestyle='--')\n",
    "plt.xlim([0.0, 1.0])\n",
    "plt.ylim([0.0, 1.05])\n",
    "plt.xlabel('False Positive Rate')\n",
    "plt.ylabel('True Positive Rate')\n",
    "plt.title('Receiver operating characteristic')\n",
    "plt.legend(loc=\"lower right\")\n",
    "plt.show()"
   ]
  },
  {
   "cell_type": "code",
   "execution_count": 95,
   "metadata": {},
   "outputs": [
    {
     "name": "stdout",
     "output_type": "stream",
     "text": [
      "Confusion Matrix\n"
     ]
    },
    {
     "data": {
      "text/plain": [
       "array([[71,  1],\n",
       "       [13, 30]], dtype=int64)"
      ]
     },
     "execution_count": 95,
     "metadata": {},
     "output_type": "execute_result"
    }
   ],
   "source": [
    "print (\"Confusion Matrix\")\n",
    "confusion_matrix(Y_test, pred_labels)"
   ]
  },
  {
   "cell_type": "markdown",
   "metadata": {},
   "source": [
    "1.b.iv) Spectral Clustering"
   ]
  },
  {
   "cell_type": "code",
   "execution_count": 173,
   "metadata": {},
   "outputs": [],
   "source": [
    "test_error_total4=[]\n",
    "best_c4=[]\n",
    "accuracy_scores4=[]\n",
    "precision_scores4=[]\n",
    "f_scores4=[]\n",
    "recall_scores4=[]\n",
    "auc_values4=[]"
   ]
  },
  {
   "cell_type": "code",
   "execution_count": 174,
   "metadata": {},
   "outputs": [],
   "source": [
    "test_error_total5=[]\n",
    "best_c5=[]\n",
    "accuracy_scores5=[]\n",
    "precision_scores5=[]\n",
    "f_scores5=[]\n",
    "recall_scores5=[]\n",
    "auc_values5=[]"
   ]
  },
  {
   "cell_type": "code",
   "execution_count": 175,
   "metadata": {},
   "outputs": [],
   "source": [
    "for i in range(0,30):    \n",
    "    p_Training_data,p_Test_data=train_test_split(positive,test_size=0.2,random_state=i)\n",
    "    n_Training_data,n_Test_data=train_test_split(negative,test_size=0.2,random_state=i)\n",
    "    full_Training=pd.concat([p_Training_data,n_Training_data])\n",
    "    full_test=pd.concat([p_Test_data,n_Test_data])\n",
    "    X_train=full_Training.iloc[:,2:32]\n",
    "    Y_train=full_Training.iloc[:,1:2]\n",
    "    scaler = MinMaxScaler()\n",
    "    scaler.fit(X_train)\n",
    "    X_train_nor=scaler.transform(X_train)\n",
    "    clustering=SpectralClustering(n_clusters=2,n_init=50,gamma=1,affinity='rbf')\n",
    "    y_pred=clustering.fit_predict(X_train_nor)\n",
    "    cluster_0=[]\n",
    "    cluster_1=[] \n",
    "    count=0\n",
    "    for i in y_pred:\n",
    "        if i == 0:\n",
    "            cluster_0.append(count)\n",
    "            count=count+1\n",
    "        else:\n",
    "            cluster_1.append(count)\n",
    "            count=count+1                    \n",
    "    Y_train.reset_index(drop=True, inplace=True)\n",
    "    spectralclustering_ylabel_c1 = Y_train.iloc[cluster_0]\n",
    "    spectralclustering_ylabel_c2 = Y_train.iloc[cluster_1]\n",
    "    c1_label = spectralclustering_ylabel_c1['Diagnosis'].value_counts().idxmax()\n",
    "    c2_label = spectralclustering_ylabel_c2['Diagnosis'].value_counts().idxmax()\n",
    "    y_pred=copy.deepcopy(Y_train)\n",
    "    y_pred.iloc[cluster_0] = c1_label\n",
    "    y_pred.iloc[cluster_1] = c2_label\n",
    "    columns4 = ['Diagnosis']\n",
    "    labels_df = pd.DataFrame(y_pred,columns=columns4)\n",
    "    pred_labels_1 = labels_df['Diagnosis'].replace({'Cluster1':c1_label,'Cluster2':c2_label})\n",
    "    pred_labels = pred_labels_1.to_frame()\n",
    "    accuracy_scores4.append(accuracy_score(Y_train, pred_labels))\n",
    "    precision_scores4.append(precision_score(Y_train,pred_labels,average='micro'))\n",
    "    recall_scores4.append(recall_score(Y_train,pred_labels,average='micro'))\n",
    "    f_scores4.append(f1_score(Y_train,pred_labels,average='micro'))\n",
    "    Y_unlabel_binary2=np.unique(Y_train, return_inverse=True)[1].tolist()\n",
    "    Y_pred_binary2=np.unique(pred_labels, return_inverse=True)[1].tolist()\n",
    "    fpr4, tpr4, thresholds4 = metrics.roc_curve(Y_unlabel_binary2, Y_pred_binary2)\n",
    "    auc_values4.append(metrics.auc(fpr4, tpr4))\n",
    "    \n",
    "    X_test=full_test.iloc[:,2:32]\n",
    "    Y_test=full_test.iloc[:,1:2]\n",
    "    scaler = MinMaxScaler()\n",
    "    scaler.fit(X_test)\n",
    "    X_test_nor=scaler.transform(X_test)\n",
    "    clustering=SpectralClustering(n_clusters=2,n_init=50,gamma=1,affinity='rbf')\n",
    "    y_pred_test=clustering.fit_predict(X_test_nor)\n",
    "    cluster_0_test=[]\n",
    "    cluster_1_test=[] \n",
    "    count=0\n",
    "    for i in y_pred_test:\n",
    "        if i == 0:\n",
    "            cluster_0_test.append(count)\n",
    "            count=count+1\n",
    "        else:\n",
    "            cluster_1_test.append(count)\n",
    "            count=count+1                    \n",
    "    Y_test.reset_index(drop=True, inplace=True)\n",
    "    spectralclustering_ylabel_c1_test = Y_test.iloc[cluster_0_test]\n",
    "    spectralclustering_ylabel_c2_test = Y_test.iloc[cluster_1_test]\n",
    "    c1_label_test = spectralclustering_ylabel_c1_test['Diagnosis'].value_counts().idxmax()\n",
    "    c2_label_test = spectralclustering_ylabel_c2_test['Diagnosis'].value_counts().idxmax()\n",
    "    y_pred_test=copy.deepcopy(Y_test)\n",
    "    y_pred_test.iloc[cluster_0_test] = c1_label_test\n",
    "    y_pred_test.iloc[cluster_1_test] = c2_label_test\n",
    "    columns5 = ['Diagnosis']\n",
    "    labels_df_test = pd.DataFrame(y_pred_test,columns=columns5)\n",
    "    pred_labels_1_test = labels_df_test['Diagnosis'].replace({'Cluster1':c1_label,'Cluster2':c2_label})\n",
    "    pred_labels_test = pred_labels_1_test.to_frame()\n",
    "    accuracy_scores5.append(accuracy_score(Y_test, pred_labels_test))\n",
    "    precision_scores5.append(precision_score(Y_test,pred_labels_test,average='micro'))\n",
    "    recall_scores5.append(recall_score(Y_test,pred_labels_test,average='micro'))\n",
    "    f_scores5.append(f1_score(Y_test,pred_labels_test,average='micro'))\n",
    "    Y_unlabel_binary3=np.unique(Y_test, return_inverse=True)[1].tolist()\n",
    "    Y_pred_binary3=np.unique(pred_labels_test, return_inverse=True)[1].tolist()\n",
    "    fpr5, tpr5, thresholds5 = metrics.roc_curve(Y_unlabel_binary3, Y_pred_binary3)\n",
    "    auc_values5.append(metrics.auc(fpr5, tpr5))"
   ]
  },
  {
   "cell_type": "code",
   "execution_count": 99,
   "metadata": {},
   "outputs": [
    {
     "name": "stdout",
     "output_type": "stream",
     "text": [
      "Average accuracy scores : Average Accuracy    0.856681\n",
      "dtype: float64\n"
     ]
    }
   ],
   "source": [
    "accuracy_df4 = pd.DataFrame(data = accuracy_scores4 , columns=['Average Accuracy'])\n",
    "print(\"Average accuracy scores :\",accuracy_df4.mean())"
   ]
  },
  {
   "cell_type": "code",
   "execution_count": 100,
   "metadata": {},
   "outputs": [
    {
     "name": "stdout",
     "output_type": "stream",
     "text": [
      "Average precision scores : Average Precision    0.856681\n",
      "dtype: float64\n"
     ]
    }
   ],
   "source": [
    "precision_df4 = pd.DataFrame(data = precision_scores4 , columns=['Average Precision'])\n",
    "print(\"Average precision scores :\",precision_df4.mean())"
   ]
  },
  {
   "cell_type": "code",
   "execution_count": 101,
   "metadata": {},
   "outputs": [
    {
     "name": "stdout",
     "output_type": "stream",
     "text": [
      "Average recall scores : Average Recall    0.856681\n",
      "dtype: float64\n"
     ]
    }
   ],
   "source": [
    "recall_df4 = pd.DataFrame(data = recall_scores4 , columns=['Average Recall'])\n",
    "print(\"Average recall scores :\",recall_df4.mean())"
   ]
  },
  {
   "cell_type": "code",
   "execution_count": 102,
   "metadata": {},
   "outputs": [
    {
     "name": "stdout",
     "output_type": "stream",
     "text": [
      "Average F scores : Average F score    0.856681\n",
      "dtype: float64\n"
     ]
    }
   ],
   "source": [
    "f_df4 = pd.DataFrame(data = f_scores4 , columns=['Average F score'])\n",
    "print(\"Average F scores :\",f_df4.mean())"
   ]
  },
  {
   "cell_type": "code",
   "execution_count": 103,
   "metadata": {},
   "outputs": [
    {
     "name": "stdout",
     "output_type": "stream",
     "text": [
      "Average AUC scores : Average AUC values    0.809743\n",
      "dtype: float64\n"
     ]
    }
   ],
   "source": [
    "auc_df4 = pd.DataFrame(data = auc_values4 , columns=['Average AUC values'])\n",
    "print(\"Average AUC scores :\",auc_df4.mean())"
   ]
  },
  {
   "cell_type": "code",
   "execution_count": 104,
   "metadata": {},
   "outputs": [
    {
     "data": {
      "image/png": "[encoded data removed]",
      "text/plain": [
       "<Figure size 720x360 with 1 Axes>"
      ]
     },
     "metadata": {
      "needs_background": "light"
     },
     "output_type": "display_data"
    }
   ],
   "source": [
    "plt.figure(figsize=(10,5))\n",
    "plt.plot(fpr4, tpr4, color='darkorange', label='ROC curve (area = %0.2f)' % metrics.auc(fpr4, tpr4))\n",
    "plt.plot([0, 1], [0, 1], color='navy', linestyle='--')\n",
    "plt.xlim([0.0, 1.0])\n",
    "plt.ylim([0.0, 1.05])\n",
    "plt.xlabel('False Positive Rate')\n",
    "plt.ylabel('True Positive Rate')\n",
    "plt.title('Receiver operating characteristic')\n",
    "plt.legend(loc=\"lower right\")\n",
    "plt.show()"
   ]
  },
  {
   "cell_type": "code",
   "execution_count": 105,
   "metadata": {},
   "outputs": [
    {
     "name": "stdout",
     "output_type": "stream",
     "text": [
      "Confusion Matrix\n"
     ]
    },
    {
     "data": {
      "text/plain": [
       "array([[282,   3],\n",
       "       [ 69, 100]], dtype=int64)"
      ]
     },
     "execution_count": 105,
     "metadata": {},
     "output_type": "execute_result"
    }
   ],
   "source": [
    "print (\"Confusion Matrix\")\n",
    "confusion_matrix(Y_train, pred_labels)"
   ]
  },
  {
   "cell_type": "code",
   "execution_count": 176,
   "metadata": {},
   "outputs": [
    {
     "name": "stdout",
     "output_type": "stream",
     "text": [
      "Average accuracy scores : Average Accuracy    0.825217\n",
      "dtype: float64\n"
     ]
    }
   ],
   "source": [
    "accuracy_df5 = pd.DataFrame(data = accuracy_scores5 , columns=['Average Accuracy'])\n",
    "print(\"Average accuracy scores :\",accuracy_df5.mean())"
   ]
  },
  {
   "cell_type": "code",
   "execution_count": 177,
   "metadata": {},
   "outputs": [
    {
     "name": "stdout",
     "output_type": "stream",
     "text": [
      "Average precision scores : Average Precision    0.825217\n",
      "dtype: float64\n"
     ]
    }
   ],
   "source": [
    "precision_df5 = pd.DataFrame(data = precision_scores5 , columns=['Average Precision'])\n",
    "print(\"Average precision scores :\",precision_df5.mean())"
   ]
  },
  {
   "cell_type": "code",
   "execution_count": 178,
   "metadata": {},
   "outputs": [
    {
     "name": "stdout",
     "output_type": "stream",
     "text": [
      "Average recall scores : Average Recall    0.825217\n",
      "dtype: float64\n"
     ]
    }
   ],
   "source": [
    "recall_df5 = pd.DataFrame(data = recall_scores5 , columns=['Average Recall'])\n",
    "print(\"Average recall scores :\",recall_df5.mean())"
   ]
  },
  {
   "cell_type": "code",
   "execution_count": 179,
   "metadata": {},
   "outputs": [
    {
     "name": "stdout",
     "output_type": "stream",
     "text": [
      "Average F scores : Average F score    0.825217\n",
      "dtype: float64\n"
     ]
    }
   ],
   "source": [
    "f_df5 = pd.DataFrame(data = f_scores5 , columns=['Average F score'])\n",
    "print(\"Average F scores :\",f_df5.mean())"
   ]
  },
  {
   "cell_type": "code",
   "execution_count": 180,
   "metadata": {},
   "outputs": [
    {
     "name": "stdout",
     "output_type": "stream",
     "text": [
      "Average AUC scores : Average AUC values    0.76784\n",
      "dtype: float64\n"
     ]
    }
   ],
   "source": [
    "auc_df5 = pd.DataFrame(data = auc_values5 , columns=['Average AUC values'])\n",
    "print(\"Average AUC scores :\",auc_df5.mean())"
   ]
  },
  {
   "cell_type": "code",
   "execution_count": 181,
   "metadata": {},
   "outputs": [
    {
     "data": {
      "image/png": "[encoded data removed]",
      "text/plain": [
       "<Figure size 720x360 with 1 Axes>"
      ]
     },
     "metadata": {
      "needs_background": "light"
     },
     "output_type": "display_data"
    }
   ],
   "source": [
    "plt.figure(figsize=(10,5))\n",
    "plt.plot(fpr5, tpr5, color='darkorange', label='ROC curve (area = %0.2f)' % metrics.auc(fpr5, tpr5))\n",
    "plt.plot([0, 1], [0, 1], color='navy', linestyle='--')\n",
    "plt.xlim([0.0, 1.0])\n",
    "plt.ylim([0.0, 1.05])\n",
    "plt.xlabel('False Positive Rate')\n",
    "plt.ylabel('True Positive Rate')\n",
    "plt.title('Receiver operating characteristic')\n",
    "plt.legend(loc=\"lower right\")\n",
    "plt.show()"
   ]
  },
  {
   "cell_type": "code",
   "execution_count": 182,
   "metadata": {},
   "outputs": [
    {
     "name": "stdout",
     "output_type": "stream",
     "text": [
      "Confusion Matrix\n"
     ]
    },
    {
     "data": {
      "text/plain": [
       "array([[72,  0],\n",
       "       [17, 26]], dtype=int64)"
      ]
     },
     "execution_count": 182,
     "metadata": {},
     "output_type": "execute_result"
    }
   ],
   "source": [
    "print (\"Confusion Matrix\")\n",
    "confusion_matrix(Y_test, pred_labels_test)"
   ]
  },
  {
   "cell_type": "markdown",
   "metadata": {},
   "source": [
    "2. Active Learning Using Support Vector Machines"
   ]
  },
  {
   "cell_type": "markdown",
   "metadata": {},
   "source": [
    "a) Dividing the data set into 472 data points randomly as the test set, and the remaining 900 points as the training set."
   ]
  },
  {
   "cell_type": "code",
   "execution_count": 57,
   "metadata": {},
   "outputs": [],
   "source": [
    "columns=[\"Variance\",\"Skewness\",\"Curtosis\",\"Entropy\",\"Class\"]\n",
    "auth_data=pd.read_csv(\"data_banknote_authentication.txt\",names=columns,header=None)\n",
    "Training_data,Test_data=train_test_split(auth_data,test_size=0.344,random_state=42)"
   ]
  },
  {
   "cell_type": "markdown",
   "metadata": {},
   "source": [
    "b.i) 50 errors for 90 SVMs per each procedure for passive learning"
   ]
  },
  {
   "cell_type": "markdown",
   "metadata": {},
   "source": [
    "Running the code for 5 errors for 9 SVMs as it is long time for 50 and 90 times"
   ]
  },
  {
   "cell_type": "code",
   "execution_count": 212,
   "metadata": {},
   "outputs": [],
   "source": [
    "bn_train_new=pd.DataFrame()\n",
    "test_error_total_passive = []\n",
    "for i in range(0,5):\n",
    "    test_error_passive = []\n",
    "    best_penality_parameter_passive = []\n",
    "    for j in range(0,9):\n",
    "        bn_train_extracted = Training_data.sample(n=10,replace=False)\n",
    "        bn_train_new =pd.concat([bn_train_new, bn_train_extracted], axis=0)\n",
    "        X_train = bn_train_new.drop('Class', axis=1)\n",
    "        Y_train1 = bn_train_new['Class']\n",
    "        Y_train = Y_train1.ravel();\n",
    "        x_test = Test_data.drop('Class', axis=1)\n",
    "        y_test1 = Test_data['Class']\n",
    "        y_test = y_test1.ravel();\n",
    "        C_range = np.logspace(-2,10,13)\n",
    "        parameters_grid = dict(C=C_range)\n",
    "        svc = svm.LinearSVC(penalty='l1',dual=False,max_iter=150000)\n",
    "        cv=KFold(10)\n",
    "        clf = GridSearchCV(svc,param_grid=parameters_grid,cv=cv)\n",
    "        clf.fit(X_train, Y_train)\n",
    "        y_pred = clf.predict(x_test)\n",
    "        score = round(clf.score(x_test, y_test),3)\n",
    "        best_penality_parameter_passive.append(clf.best_params_)\n",
    "        test_error_passive.append(score)\n",
    "    test_error_total_passive.append(test_error_passive)"
   ]
  },
  {
   "cell_type": "code",
   "execution_count": 213,
   "metadata": {},
   "outputs": [
    {
     "name": "stdout",
     "output_type": "stream",
     "text": [
      "Test errors : [[0.864, 0.858, 0.845, 0.992, 0.983, 0.985, 0.989, 0.989, 0.994], [0.989, 0.989, 0.989, 0.992, 0.989, 0.992, 0.992, 0.989, 0.989], [0.989, 0.994, 0.994, 0.994, 0.987, 0.987, 0.987, 0.987, 0.987], [0.987, 0.987, 0.989, 0.987, 0.989, 0.987, 0.987, 0.987, 0.987], [0.987, 0.987, 0.987, 0.987, 0.987, 0.987, 0.987, 0.987, 0.987]]\n",
      "Best C : [{'C': 10.0}, {'C': 10.0}, {'C': 10.0}, {'C': 10.0}, {'C': 10.0}, {'C': 10.0}, {'C': 10.0}, {'C': 0.1}, {'C': 0.1}]\n"
     ]
    }
   ],
   "source": [
    "print(\"Test errors :\",test_error_total_passive)\n",
    "print(\"Best C :\",best_penality_parameter_passive)"
   ]
  },
  {
   "cell_type": "markdown",
   "metadata": {},
   "source": [
    "b.ii) 50 errors for 90 SVMs per each procedure for active learning"
   ]
  },
  {
   "cell_type": "code",
   "execution_count": 214,
   "metadata": {},
   "outputs": [],
   "source": [
    "X_train_full = Training_data.drop('Class', axis=1)\n",
    "Y_train1 = Training_data['Class']\n",
    "Y_train_full = Y_train1.to_frame();\n",
    "x_test_full = Test_data.drop('Class', axis=1)\n",
    "y_test1 = Test_data['Class']\n",
    "y_test_full = y_test1.to_frame();"
   ]
  },
  {
   "cell_type": "code",
   "execution_count": 215,
   "metadata": {},
   "outputs": [],
   "source": [
    "clf = svm.LinearSVC(penalty='l1',dual=False,max_iter=10000)\n",
    "clf.fit(X_train_full, Y_train_full)\n",
    "distance_from_margin = clf.decision_function(X_train_full)\n",
    "distance_from_margin = list(distance_from_margin)\n",
    "distance_from_margin = [round(i,3) for i in distance_from_margin]\n",
    "distance_from_margin = list(map(abs, distance_from_margin))"
   ]
  },
  {
   "cell_type": "code",
   "execution_count": 216,
   "metadata": {},
   "outputs": [],
   "source": [
    "dist_df = pd.DataFrame(data = distance_from_margin , columns=['distance'])\n",
    "test_error_total_passive=pd.DataFrame(test_error_total_passive)\n",
    "avg_passive=test_error_total_passive.mean(axis=1)\n",
    "test_error_total_passive=test_error_total_passive.mean()\n",
    "test_error_total_passive= test_error_total_passive.values.tolist()"
   ]
  },
  {
   "cell_type": "code",
   "execution_count": 64,
   "metadata": {},
   "outputs": [],
   "source": [
    "X_train_full.reset_index(drop=True, inplace=True)\n",
    "Y_train_full.reset_index(drop=True, inplace=True)\n",
    "dist_df.reset_index(drop=True, inplace=True)"
   ]
  },
  {
   "cell_type": "code",
   "execution_count": 65,
   "metadata": {},
   "outputs": [],
   "source": [
    "X_train_new = pd.concat([X_train_full,Y_train_full,dist_df], axis=1,)\n",
    "X_train_dist = X_train_new.sort_values(['distance'], ascending=[1])\n",
    "X_train_sorted = X_train_dist.drop('distance', axis=1)"
   ]
  },
  {
   "cell_type": "code",
   "execution_count": 66,
   "metadata": {},
   "outputs": [],
   "source": [
    "auth_train_10 = X_train_sorted.sample(n=10,replace=False)\n",
    "auth_train_rem = X_train_sorted[~X_train_sorted.index.isin(auth_train_10.index)]"
   ]
  },
  {
   "cell_type": "markdown",
   "metadata": {},
   "source": [
    "Running the code for 5 errors for 9 SVMs as it is long time for 50 and 90 times"
   ]
  },
  {
   "cell_type": "code",
   "execution_count": 197,
   "metadata": {},
   "outputs": [],
   "source": [
    "bn_train_new=pd.DataFrame()\n",
    "test_error_total_active = []\n",
    "bn_train_extracted = auth_train_10\n",
    "for i in range(0,5):\n",
    "    test_error_active = []\n",
    "    best_penality_parameter_active = []\n",
    "    for j in range(1,10):\n",
    "        bn_train_new =pd.concat([bn_train_new, bn_train_extracted], axis=0)\n",
    "        X_train = bn_train_new.drop('Class', axis=1)\n",
    "        Y_train1 = bn_train_new['Class']\n",
    "        Y_train = Y_train1.ravel();\n",
    "        x_test = Test_data.drop('Class', axis=1)\n",
    "        y_test1 = Test_data['Class']\n",
    "        y_test = y_test1.ravel();\n",
    "        C_range = np.logspace(-2,10,13)\n",
    "        parameters_grid = dict(C=C_range)\n",
    "        svc = svm.LinearSVC(penalty='l1',dual=False,max_iter=150000)\n",
    "        cv=KFold(10)\n",
    "        clf = GridSearchCV(svc,param_grid=parameters_grid,cv=cv)\n",
    "        clf.fit(X_train, Y_train)\n",
    "        y_pred = clf.predict(x_test)\n",
    "        score = round(clf.score(x_test, y_test),3) \n",
    "        best_penality_parameter_active.append(clf.best_params_)\n",
    "        test_error_active.append(score)    \n",
    "        bn_train_extracted = auth_train_rem.iloc[:10,:]\n",
    "        auth_train_rem=auth_train_rem.drop(auth_train_rem.index[:10])\n",
    "    test_error_total_active.append(test_error_active)    "
   ]
  },
  {
   "cell_type": "code",
   "execution_count": 198,
   "metadata": {},
   "outputs": [
    {
     "name": "stdout",
     "output_type": "stream",
     "text": [
      "Test errors : [[0.975, 0.888, 0.975, 0.915, 0.917, 0.979, 0.919, 0.924, 0.924], [0.979, 0.979, 0.979, 0.979, 0.979, 0.979, 0.979, 0.979, 0.979], [0.979, 0.979, 0.979, 0.979, 0.979, 0.979, 0.979, 0.979, 0.979], [0.979, 0.979, 0.979, 0.979, 0.979, 0.979, 0.979, 0.979, 0.979], [0.979, 0.979, 0.979, 0.979, 0.979, 0.979, 0.979, 0.979, 0.979]]\n",
      "Best C : [{'C': 10000.0}, {'C': 1000.0}, {'C': 1000.0}, {'C': 10000.0}, {'C': 10000.0}, {'C': 100000.0}, {'C': 100.0}, {'C': 1000.0}, {'C': 10000.0}]\n"
     ]
    }
   ],
   "source": [
    "print(\"Test errors :\",test_error_total_active)\n",
    "print(\"Best C :\",best_penality_parameter_active)"
   ]
  },
  {
   "cell_type": "code",
   "execution_count": 210,
   "metadata": {},
   "outputs": [],
   "source": [
    "test_error_total_active=pd.DataFrame(test_error_total_active)\n",
    "avg_active=test_error_total_active.mean(axis=1)\n",
    "test_error_total_active=test_error_total_active.mean()\n",
    "test_error_total_active= test_error_total_active.values.tolist()"
   ]
  },
  {
   "cell_type": "code",
   "execution_count": 217,
   "metadata": {},
   "outputs": [
    {
     "name": "stdout",
     "output_type": "stream",
     "text": [
      "Average of 50 errors from passive learning 0    0.944333\n",
      "1    0.990000\n",
      "2    0.989556\n",
      "3    0.987444\n",
      "4    0.987000\n",
      "dtype: float64\n",
      "Average of 50 errors from active learning 0    0.935111\n",
      "1    0.979000\n",
      "2    0.979000\n",
      "3    0.979000\n",
      "4    0.979000\n",
      "dtype: float64\n"
     ]
    }
   ],
   "source": [
    "print(\"Average of 50 errors from passive learning\",avg_passive)\n",
    "print(\"Average of 50 errors from active learning\",avg_active)"
   ]
  },
  {
   "cell_type": "code",
   "execution_count": 71,
   "metadata": {},
   "outputs": [],
   "source": [
    "length=len(test_error_total_active)\n",
    "no_of_train_inst = [i*10 for i in range (1,length+1)]"
   ]
  },
  {
   "cell_type": "code",
   "execution_count": 74,
   "metadata": {},
   "outputs": [
    {
     "data": {
      "image/png": "[encoded data removed]",
      "text/plain": [
       "<Figure size 720x360 with 1 Axes>"
      ]
     },
     "metadata": {
      "needs_background": "light"
     },
     "output_type": "display_data"
    }
   ],
   "source": [
    "plt.figure(figsize=(10,5))\n",
    "plt.xlabel('Number of training instances', fontsize=18)\n",
    "plt.ylabel('Average Test Error', fontsize=18)\n",
    "plt.plot(no_of_train_inst, test_error_total_active,marker='o',label='Active_Learning')\n",
    "plt.plot(no_of_train_inst, test_error_total_passive,marker='o',label='Passive_Learning')\n",
    "plt.legend(loc='best')\n",
    "plt.show()"
   ]
  }
 ],
 "metadata": {
  "kernelspec": {
   "display_name": "Python 3",
   "language": "python",
   "name": "python3"
  },
  "language_info": {
   "codemirror_mode": {
    "name": "ipython",
    "version": 3
   },
   "file_extension": ".py",
   "mimetype": "text/x-python",
   "name": "python",
   "nbconvert_exporter": "python",
   "pygments_lexer": "ipython3",
   "version": "3.7.1"
  }
 },
 "nbformat": 4,
 "nbformat_minor": 2
}
