{
 "cells": [
  {
   "cell_type": "markdown",
   "metadata": {},
   "source": [
    "# Name : Rohit Kulkarni USC ID : 5402749044"
   ]
  },
  {
   "cell_type": "code",
   "execution_count": null,
   "metadata": {},
   "outputs": [],
   "source": []
  },
  {
   "cell_type": "code",
   "execution_count": 1,
   "metadata": {},
   "outputs": [],
   "source": [
    "import pandas as pd\n",
    "import numpy as np\n",
    "from sklearn.model_selection import train_test_split,GridSearchCV\n",
    "from sklearn import svm\n",
    "import matplotlib.pyplot as plt\n",
    "from sklearn.metrics import hamming_loss\n",
    "from sklearn.metrics import accuracy_score\n",
    "from sklearn.preprocessing import StandardScaler \n",
    "from sklearn.svm import LinearSVC\n",
    "from imblearn.over_sampling import SMOTE\n",
    "from sklearn.cluster import KMeans\n",
    "from sklearn.metrics import silhouette_samples, silhouette_score\n",
    "from sklearn.preprocessing import LabelEncoder\n",
    "from collections import Counter\n",
    "from scipy.spatial import distance\n",
    "from sklearn.neighbors import DistanceMetric\n",
    "from statistics import mean\n"
   ]
  },
  {
   "cell_type": "markdown",
   "metadata": {},
   "source": [
    "Reading the data"
   ]
  },
  {
   "cell_type": "code",
   "execution_count": 2,
   "metadata": {},
   "outputs": [],
   "source": [
    "data=pd.read_csv(\"Frogs_MFCCs.csv\")"
   ]
  },
  {
   "cell_type": "markdown",
   "metadata": {},
   "source": [
    "Randomly splitting data to training and test"
   ]
  },
  {
   "cell_type": "code",
   "execution_count": null,
   "metadata": {},
   "outputs": [],
   "source": [
    "training_data,test_data=train_test_split(data,test_size=0.30,random_state=42)"
   ]
  },
  {
   "cell_type": "code",
   "execution_count": 4,
   "metadata": {},
   "outputs": [],
   "source": [
    "X_Training=training_data.iloc[:,:22]\n",
    "data_label_family=training_data[\"Family\"]\n",
    "data_label_genus=training_data[\"Genus\"]\n",
    "data_label_species=training_data[\"Species\"]\n",
    "X_Test=test_data.iloc[:,:22]\n",
    "test_data_label_family=test_data[\"Family\"]\n",
    "test_data_label_genus=test_data[\"Genus\"]\n",
    "test_data_label_species=test_data[\"Species\"]"
   ]
  },
  {
   "cell_type": "markdown",
   "metadata": {},
   "source": [
    "1.b.ii)SVM for each of the labels, using Gaussian kernels and one versus all classifiers."
   ]
  },
  {
   "cell_type": "code",
   "execution_count": 5,
   "metadata": {},
   "outputs": [],
   "source": [
    "from sklearn import svm\n",
    "parameter_candidates = [{'C': [1, 10, 100, 1000], 'gamma': [0.01,0.1,0.2,0.5]},]\n",
    "clf = GridSearchCV(cv=10,estimator=svm.SVC(), param_grid=parameter_candidates, n_jobs=-1)"
   ]
  },
  {
   "cell_type": "code",
   "execution_count": 6,
   "metadata": {},
   "outputs": [
    {
     "name": "stdout",
     "output_type": "stream",
     "text": [
      "Best C: 100\n",
      "Best Gamma: 0.5\n"
     ]
    }
   ],
   "source": [
    "clf.fit(X_Training,data_label_family)   \n",
    "print('Best C:',clf.best_estimator_.C) \n",
    "print('Best Gamma:',clf.best_estimator_.gamma)"
   ]
  },
  {
   "cell_type": "code",
   "execution_count": 7,
   "metadata": {},
   "outputs": [
    {
     "name": "stdout",
     "output_type": "stream",
     "text": [
      "Hamming loss: 0.007410838351088467\n",
      "Exact Score: 0.9925891616489115\n"
     ]
    }
   ],
   "source": [
    "from sklearn import svm\n",
    "svm = svm.SVC(kernel='rbf', random_state=0, gamma=0.5, C=100)\n",
    "svm.fit(X_Training, data_label_family)\n",
    "y_pred1=svm.predict(X_Test)\n",
    "print(\"Hamming loss:\",hamming_loss(test_data_label_family, y_pred1))\n",
    "print(\"Exact Score:\",accuracy_score(test_data_label_family, y_pred1))"
   ]
  },
  {
   "cell_type": "code",
   "execution_count": 8,
   "metadata": {},
   "outputs": [
    {
     "name": "stdout",
     "output_type": "stream",
     "text": [
      "Best C: 10\n",
      "Best Gamma: 0.5\n"
     ]
    }
   ],
   "source": [
    "clf.fit(X_Training,data_label_genus)   \n",
    "print('Best C:',clf.best_estimator_.C) \n",
    "print('Best Gamma:',clf.best_estimator_.gamma)"
   ]
  },
  {
   "cell_type": "code",
   "execution_count": 9,
   "metadata": {},
   "outputs": [
    {
     "name": "stdout",
     "output_type": "stream",
     "text": [
      "Hamming loss: 0.012505789717461788\n",
      "Exact Score: 0.9874942102825383\n"
     ]
    }
   ],
   "source": [
    "from sklearn import svm\n",
    "svm = svm.SVC(kernel='rbf',gamma=0.5, C=10)\n",
    "svm.fit(X_Training, data_label_genus)\n",
    "y_pred2=svm.predict(X_Test)\n",
    "print(\"Hamming loss:\",hamming_loss(test_data_label_genus, y_pred2))\n",
    "print(\"Exact Score:\",accuracy_score(test_data_label_genus, y_pred2))"
   ]
  },
  {
   "cell_type": "code",
   "execution_count": 10,
   "metadata": {},
   "outputs": [
    {
     "name": "stdout",
     "output_type": "stream",
     "text": [
      "Best C: 10\n",
      "Best Gamma: 0.5\n"
     ]
    }
   ],
   "source": [
    "clf.fit(X_Training,data_label_species)   \n",
    "print('Best C:',clf.best_estimator_.C) \n",
    "print('Best Gamma:',clf.best_estimator_.gamma)"
   ]
  },
  {
   "cell_type": "code",
   "execution_count": 11,
   "metadata": {},
   "outputs": [
    {
     "name": "stdout",
     "output_type": "stream",
     "text": [
      "Hamming loss: 0.0111162575266327\n",
      "Exact Score: 0.9888837424733673\n"
     ]
    }
   ],
   "source": [
    "from sklearn import svm\n",
    "svm = svm.SVC(kernel='rbf', random_state=0, gamma=0.5, C=10)\n",
    "svm.fit(X_Training, data_label_species)\n",
    "y_pred3=svm.predict(X_Test)\n",
    "print(\"Hamming loss:\",hamming_loss(test_data_label_species, y_pred3))\n",
    "print(\"Exact Score:\",accuracy_score(test_data_label_species, y_pred3))"
   ]
  },
  {
   "cell_type": "markdown",
   "metadata": {},
   "source": [
    "Standardizing the data"
   ]
  },
  {
   "cell_type": "code",
   "execution_count": 12,
   "metadata": {},
   "outputs": [],
   "source": [
    "scaler = StandardScaler()  \n",
    "scaler.fit(X_Training)\n",
    "X_Training_std = scaler.transform(X_Training)\n",
    "X_Test_std = scaler.transform(X_Test)"
   ]
  },
  {
   "cell_type": "code",
   "execution_count": 13,
   "metadata": {},
   "outputs": [
    {
     "name": "stdout",
     "output_type": "stream",
     "text": [
      "Best C: 10\n",
      "Best Gamma: 0.1\n"
     ]
    }
   ],
   "source": [
    "clf.fit(X_Training_std,data_label_family)   \n",
    "print('Best C:',clf.best_estimator_.C) \n",
    "print('Best Gamma:',clf.best_estimator_.gamma)"
   ]
  },
  {
   "cell_type": "code",
   "execution_count": 14,
   "metadata": {},
   "outputs": [
    {
     "name": "stdout",
     "output_type": "stream",
     "text": [
      "Hamming loss: 0.007410838351088467\n",
      "Exact Score: 0.9925891616489115\n"
     ]
    }
   ],
   "source": [
    "from sklearn import svm\n",
    "svm = svm.SVC(kernel='rbf', random_state=0, gamma=0.1, C=10)\n",
    "svm.fit(X_Training_std, data_label_family)\n",
    "y_pred=svm.predict(X_Test_std)\n",
    "print(\"Hamming loss:\",hamming_loss(test_data_label_family, y_pred))\n",
    "print(\"Exact Score:\",accuracy_score(test_data_label_family, y_pred))"
   ]
  },
  {
   "cell_type": "code",
   "execution_count": 15,
   "metadata": {},
   "outputs": [
    {
     "name": "stdout",
     "output_type": "stream",
     "text": [
      "Best C: 10\n",
      "Best Gamma: 0.1\n"
     ]
    }
   ],
   "source": [
    "clf.fit(X_Training_std,data_label_genus)   \n",
    "print('Best C:',clf.best_estimator_.C) \n",
    "print('Best Gamma:',clf.best_estimator_.gamma)"
   ]
  },
  {
   "cell_type": "code",
   "execution_count": 16,
   "metadata": {},
   "outputs": [
    {
     "name": "stdout",
     "output_type": "stream",
     "text": [
      "Hamming loss: 0.012042612320518759\n",
      "Exact Score: 0.9879573876794813\n"
     ]
    }
   ],
   "source": [
    "from sklearn import svm\n",
    "svm = svm.SVC(kernel='rbf', random_state=0, gamma=0.1, C=10)\n",
    "svm.fit(X_Training_std, data_label_genus)\n",
    "y_pred=svm.predict(X_Test_std)\n",
    "print(\"Hamming loss:\",hamming_loss(test_data_label_genus, y_pred))\n",
    "print(\"Exact Score:\",accuracy_score(test_data_label_genus, y_pred))"
   ]
  },
  {
   "cell_type": "code",
   "execution_count": 17,
   "metadata": {},
   "outputs": [
    {
     "name": "stdout",
     "output_type": "stream",
     "text": [
      "Best C: 10\n",
      "Best Gamma: 0.1\n"
     ]
    }
   ],
   "source": [
    "clf.fit(X_Training_std,data_label_genus)   \n",
    "print('Best C:',clf.best_estimator_.C) \n",
    "print('Best Gamma:',clf.best_estimator_.gamma)"
   ]
  },
  {
   "cell_type": "code",
   "execution_count": 18,
   "metadata": {},
   "outputs": [
    {
     "name": "stdout",
     "output_type": "stream",
     "text": [
      "Hamming loss: 0.015748031496062992\n",
      "Exact Score: 0.984251968503937\n"
     ]
    }
   ],
   "source": [
    "from sklearn import svm\n",
    "svm = svm.SVC(kernel='rbf', random_state=0, gamma=0.1, C=10)\n",
    "svm.fit(X_Training_std, data_label_species)\n",
    "y_pred=svm.predict(X_Test_std)\n",
    "print(\"Hamming loss:\",hamming_loss(test_data_label_species, y_pred))\n",
    "print(\"Exact Score:\",accuracy_score(test_data_label_species, y_pred))"
   ]
  },
  {
   "cell_type": "markdown",
   "metadata": {},
   "source": [
    "1.b.iii) L1 penalized SVM"
   ]
  },
  {
   "cell_type": "code",
   "execution_count": 19,
   "metadata": {},
   "outputs": [
    {
     "name": "stdout",
     "output_type": "stream",
     "text": [
      "Best C: 1\n"
     ]
    }
   ],
   "source": [
    "from sklearn import svm\n",
    "parameter_candidates = [{'C': [1, 10, 100, 1000]},]\n",
    "clf = GridSearchCV(cv=10,estimator=LinearSVC(penalty='l1',random_state=0,loss='squared_hinge',dual=False,max_iter=10000), param_grid=parameter_candidates, n_jobs=-1)\n",
    "clf.fit(X_Training_std,data_label_family) \n",
    "print('Best C:',clf.best_estimator_.C) "
   ]
  },
  {
   "cell_type": "code",
   "execution_count": 20,
   "metadata": {},
   "outputs": [
    {
     "name": "stdout",
     "output_type": "stream",
     "text": [
      "Hamming loss: 0.07179249652616952\n",
      "Exact Score: 0.9282075034738305\n"
     ]
    }
   ],
   "source": [
    "svc = svm.LinearSVC(penalty='l1',random_state=0,C=100,loss='squared_hinge',dual=False,max_iter=10000)\n",
    "svc.fit(X_Training_std, data_label_family)\n",
    "y_pred=svc.predict(X_Test_std)\n",
    "print(\"Hamming loss:\",hamming_loss(test_data_label_family, y_pred))\n",
    "print(\"Exact Score:\",accuracy_score(test_data_label_family, y_pred))"
   ]
  },
  {
   "cell_type": "code",
   "execution_count": 21,
   "metadata": {},
   "outputs": [
    {
     "name": "stdout",
     "output_type": "stream",
     "text": [
      "Best C: 10\n"
     ]
    }
   ],
   "source": [
    "from sklearn import svm\n",
    "parameter_candidates = [{'C': [1, 10, 100, 1000]},]\n",
    "clf = GridSearchCV(cv=10,estimator=LinearSVC(penalty='l1',random_state=0,loss='squared_hinge',dual=False,max_iter=10000), param_grid=parameter_candidates, n_jobs=-1)\n",
    "clf.fit(X_Training_std,data_label_genus) \n",
    "print('Best C:',clf.best_estimator_.C) "
   ]
  },
  {
   "cell_type": "code",
   "execution_count": 22,
   "metadata": {},
   "outputs": [
    {
     "name": "stdout",
     "output_type": "stream",
     "text": [
      "Hamming loss: 0.058360352014821676\n",
      "Exact Score: 0.9416396479851783\n"
     ]
    }
   ],
   "source": [
    "svc = svm.LinearSVC(penalty='l1',random_state=0,C=10,loss='squared_hinge',dual=False,max_iter=10000)\n",
    "svc.fit(X_Training_std, data_label_genus)\n",
    "y_pred=svc.predict(X_Test_std)\n",
    "print(\"Hamming loss:\",hamming_loss(test_data_label_genus, y_pred))\n",
    "print(\"Exact Score:\",accuracy_score(test_data_label_genus, y_pred))"
   ]
  },
  {
   "cell_type": "code",
   "execution_count": 23,
   "metadata": {},
   "outputs": [
    {
     "name": "stdout",
     "output_type": "stream",
     "text": [
      "Best C: 1\n"
     ]
    }
   ],
   "source": [
    "from sklearn import svm\n",
    "parameter_candidates = [{'C': [1, 10, 100, 1000]},]\n",
    "clf = GridSearchCV(cv=10,estimator=LinearSVC(penalty='l1',random_state=0,loss='squared_hinge',dual=False,max_iter=10000), param_grid=parameter_candidates, n_jobs=-1)\n",
    "clf.fit(X_Training_std,data_label_species) \n",
    "print('Best C:',clf.best_estimator_.C) "
   ]
  },
  {
   "cell_type": "code",
   "execution_count": 24,
   "metadata": {},
   "outputs": [
    {
     "name": "stdout",
     "output_type": "stream",
     "text": [
      "Hamming loss: 0.04075961093098657\n",
      "Exact Score: 0.9592403890690134\n"
     ]
    }
   ],
   "source": [
    "svc = svm.LinearSVC(penalty='l1',random_state=0,C=1,loss='squared_hinge',dual=False,max_iter=10000)\n",
    "svc.fit(X_Training_std, data_label_species)\n",
    "y_pred=svc.predict(X_Test_std)\n",
    "print(\"Hamming loss:\",hamming_loss(test_data_label_species, y_pred))\n",
    "print(\"Exact Score:\",accuracy_score(test_data_label_species, y_pred))"
   ]
  },
  {
   "cell_type": "markdown",
   "metadata": {},
   "source": [
    "1.b.iv) SMOTE and L1 penalized SVM"
   ]
  },
  {
   "cell_type": "code",
   "execution_count": 25,
   "metadata": {},
   "outputs": [],
   "source": [
    "sm = SMOTE(random_state=2)\n",
    "X_train_family, y_train_family = sm.fit_sample(X_Training_std, data_label_family.ravel())"
   ]
  },
  {
   "cell_type": "code",
   "execution_count": 26,
   "metadata": {},
   "outputs": [
    {
     "name": "stdout",
     "output_type": "stream",
     "text": [
      "Best C: 10\n"
     ]
    }
   ],
   "source": [
    "from sklearn import svm\n",
    "parameter_candidates = [{'C': [1, 10, 100, 1000]},]\n",
    "clf = GridSearchCV(cv=10,estimator=LinearSVC(penalty='l1',random_state=0,loss='squared_hinge',dual=False,max_iter=10000), param_grid=parameter_candidates, n_jobs=-1)\n",
    "clf.fit(X_train_family,y_train_family) \n",
    "print('Best C:',clf.best_estimator_.C) "
   ]
  },
  {
   "cell_type": "code",
   "execution_count": 27,
   "metadata": {},
   "outputs": [
    {
     "name": "stdout",
     "output_type": "stream",
     "text": [
      "Hamming loss: 0.0921723019916628\n",
      "Exact Score: 0.9078276980083372\n"
     ]
    }
   ],
   "source": [
    "svc = svm.LinearSVC(penalty='l1',random_state=0,C=10,loss='squared_hinge',dual=False,max_iter=10000)\n",
    "svc.fit(X_train_family, y_train_family)\n",
    "y_pred=svc.predict(X_Test_std)\n",
    "print(\"Hamming loss:\",hamming_loss(test_data_label_family, y_pred))\n",
    "print(\"Exact Score:\",accuracy_score(test_data_label_family, y_pred))"
   ]
  },
  {
   "cell_type": "code",
   "execution_count": 28,
   "metadata": {},
   "outputs": [],
   "source": [
    "sm = SMOTE(random_state=2)\n",
    "X_train_genus, y_train_genus = sm.fit_sample(X_Training_std, data_label_genus.ravel())"
   ]
  },
  {
   "cell_type": "code",
   "execution_count": 29,
   "metadata": {},
   "outputs": [
    {
     "name": "stdout",
     "output_type": "stream",
     "text": [
      "Best C: 10\n"
     ]
    }
   ],
   "source": [
    "from sklearn import svm\n",
    "parameter_candidates = [{'C': [1, 10, 100, 1000]},]\n",
    "clf = GridSearchCV(cv=10,estimator=LinearSVC(penalty='l1',random_state=0,loss='squared_hinge',dual=False,max_iter=10000), param_grid=parameter_candidates, n_jobs=-1)\n",
    "clf.fit(X_train_genus,y_train_genus) \n",
    "print('Best C:',clf.best_estimator_.C) "
   ]
  },
  {
   "cell_type": "code",
   "execution_count": 30,
   "metadata": {},
   "outputs": [
    {
     "name": "stdout",
     "output_type": "stream",
     "text": [
      "Hamming loss: 0.0968040759610931\n",
      "Exact Score: 0.9031959240389069\n"
     ]
    }
   ],
   "source": [
    "svc = svm.LinearSVC(penalty='l1',random_state=0,C=10,loss='squared_hinge',dual=False,max_iter=10000)\n",
    "svc.fit(X_train_genus, y_train_genus)\n",
    "y_pred=svc.predict(X_Test_std)\n",
    "print(\"Hamming loss:\",hamming_loss(test_data_label_genus, y_pred))\n",
    "print(\"Exact Score:\",accuracy_score(test_data_label_genus, y_pred))"
   ]
  },
  {
   "cell_type": "code",
   "execution_count": 31,
   "metadata": {},
   "outputs": [],
   "source": [
    "sm = SMOTE(random_state=2)\n",
    "X_train_species, y_train_species = sm.fit_sample(X_Training_std, data_label_species.ravel())"
   ]
  },
  {
   "cell_type": "code",
   "execution_count": 32,
   "metadata": {},
   "outputs": [
    {
     "name": "stdout",
     "output_type": "stream",
     "text": [
      "Best C: 100\n"
     ]
    }
   ],
   "source": [
    "from sklearn import svm\n",
    "parameter_candidates = [{'C': [1, 10, 100, 1000]},]\n",
    "clf = GridSearchCV(cv=10,estimator=LinearSVC(penalty='l1',random_state=0,loss='squared_hinge',dual=False,max_iter=10000), param_grid=parameter_candidates, n_jobs=-1)\n",
    "clf.fit(X_train_species,y_train_species) \n",
    "print('Best C:',clf.best_estimator_.C) "
   ]
  },
  {
   "cell_type": "code",
   "execution_count": 33,
   "metadata": {},
   "outputs": [
    {
     "name": "stdout",
     "output_type": "stream",
     "text": [
      "Hamming loss: 0.042612320518758684\n",
      "Exact Score: 0.9573876794812413\n"
     ]
    }
   ],
   "source": [
    "svc = svm.LinearSVC(penalty='l1',random_state=0,C=100,loss='squared_hinge',dual=False,max_iter=10000)\n",
    "svc.fit(X_train_species, y_train_species)\n",
    "y_pred=svc.predict(X_Test_std)\n",
    "print(\"Hamming loss:\",hamming_loss(test_data_label_species, y_pred))\n",
    "print(\"Exact Score:\",accuracy_score(test_data_label_species, y_pred))"
   ]
  },
  {
   "cell_type": "markdown",
   "metadata": {},
   "source": [
    "2.K-Means Clustering on a Multi-Class and Multi-Label Data Set"
   ]
  },
  {
   "cell_type": "markdown",
   "metadata": {},
   "source": [
    "2.a) K-Means clustering with k={1,2,3.....50}"
   ]
  },
  {
   "cell_type": "code",
   "execution_count": 34,
   "metadata": {},
   "outputs": [],
   "source": [
    "data = data.drop('RecordID',axis=1)\n",
    "X_train = data.iloc[:,:-3]\n",
    "labels = data.iloc[:,-3:]"
   ]
  },
  {
   "cell_type": "code",
   "execution_count": 35,
   "metadata": {},
   "outputs": [
    {
     "name": "stdout",
     "output_type": "stream",
     "text": [
      "For n_clusters=2, The Silhouette Coefficient is 0.3486778410277152\n",
      "For n_clusters=3, The Silhouette Coefficient is 0.36768245219926315\n",
      "For n_clusters=4, The Silhouette Coefficient is 0.3787509343305295\n",
      "For n_clusters=5, The Silhouette Coefficient is 0.371653028394425\n",
      "For n_clusters=6, The Silhouette Coefficient is 0.2644681179713745\n",
      "For n_clusters=7, The Silhouette Coefficient is 0.2605424786999264\n",
      "For n_clusters=8, The Silhouette Coefficient is 0.2704424015842344\n",
      "For n_clusters=9, The Silhouette Coefficient is 0.27622334239300217\n",
      "For n_clusters=10, The Silhouette Coefficient is 0.26326026633432037\n",
      "For n_clusters=11, The Silhouette Coefficient is 0.2626630243035382\n",
      "For n_clusters=12, The Silhouette Coefficient is 0.27267239700050294\n",
      "For n_clusters=13, The Silhouette Coefficient is 0.27841098766353944\n",
      "For n_clusters=14, The Silhouette Coefficient is 0.26511636884177964\n",
      "For n_clusters=15, The Silhouette Coefficient is 0.26922648843513997\n",
      "For n_clusters=16, The Silhouette Coefficient is 0.26337694303676285\n",
      "For n_clusters=17, The Silhouette Coefficient is 0.25848385106877025\n",
      "For n_clusters=18, The Silhouette Coefficient is 0.2672773919830582\n",
      "For n_clusters=19, The Silhouette Coefficient is 0.27952907978654473\n",
      "For n_clusters=20, The Silhouette Coefficient is 0.2853416906496507\n",
      "For n_clusters=21, The Silhouette Coefficient is 0.2716593093828481\n",
      "For n_clusters=22, The Silhouette Coefficient is 0.27135822667744275\n",
      "For n_clusters=23, The Silhouette Coefficient is 0.26711900187891524\n",
      "For n_clusters=24, The Silhouette Coefficient is 0.2703701728694616\n",
      "For n_clusters=25, The Silhouette Coefficient is 0.27169432033444674\n",
      "For n_clusters=26, The Silhouette Coefficient is 0.2721850642217005\n",
      "For n_clusters=27, The Silhouette Coefficient is 0.2605817187480073\n",
      "For n_clusters=28, The Silhouette Coefficient is 0.26163725820440814\n",
      "For n_clusters=29, The Silhouette Coefficient is 0.27407901602084833\n",
      "For n_clusters=30, The Silhouette Coefficient is 0.2656679511554029\n",
      "For n_clusters=31, The Silhouette Coefficient is 0.26314691528200207\n",
      "For n_clusters=32, The Silhouette Coefficient is 0.26270874890661117\n",
      "For n_clusters=33, The Silhouette Coefficient is 0.26581413770999657\n",
      "For n_clusters=34, The Silhouette Coefficient is 0.25454531967515204\n",
      "For n_clusters=35, The Silhouette Coefficient is 0.2657000394983972\n",
      "For n_clusters=36, The Silhouette Coefficient is 0.25487352546753916\n",
      "For n_clusters=37, The Silhouette Coefficient is 0.26519902053644384\n",
      "For n_clusters=38, The Silhouette Coefficient is 0.26607307842798267\n",
      "For n_clusters=39, The Silhouette Coefficient is 0.2393688741346437\n",
      "For n_clusters=40, The Silhouette Coefficient is 0.23880449105238508\n",
      "For n_clusters=41, The Silhouette Coefficient is 0.24038792545846618\n",
      "For n_clusters=42, The Silhouette Coefficient is 0.23638841659270524\n",
      "For n_clusters=43, The Silhouette Coefficient is 0.2300630792705015\n",
      "For n_clusters=44, The Silhouette Coefficient is 0.26375082438972197\n",
      "For n_clusters=45, The Silhouette Coefficient is 0.22923979173319817\n",
      "For n_clusters=46, The Silhouette Coefficient is 0.23813550520893992\n",
      "For n_clusters=47, The Silhouette Coefficient is 0.23282837908268952\n",
      "For n_clusters=48, The Silhouette Coefficient is 0.22911615923170925\n",
      "For n_clusters=49, The Silhouette Coefficient is 0.24423922644536597\n",
      "For n_clusters=50, The Silhouette Coefficient is 0.22712474589031495\n"
     ]
    }
   ],
   "source": [
    "best_scores=[]\n",
    "for n_cluster in range(2, 51):\n",
    "    kmeans = KMeans(n_clusters=n_cluster).fit(X_train)\n",
    "    label = kmeans.labels_\n",
    "    sil_coeff = silhouette_score(X_train, label, metric='euclidean')\n",
    "    print(\"For n_clusters={}, The Silhouette Coefficient is {}\".format(n_cluster, sil_coeff))\n",
    "    best_scores.append(sil_coeff)"
   ]
  },
  {
   "cell_type": "code",
   "execution_count": 36,
   "metadata": {},
   "outputs": [
    {
     "name": "stdout",
     "output_type": "stream",
     "text": [
      "Best K: 4\n"
     ]
    }
   ],
   "source": [
    "best_k=best_scores.index(max(best_scores))\n",
    "print(\"Best K:\",best_k+2)"
   ]
  },
  {
   "cell_type": "code",
   "execution_count": 37,
   "metadata": {},
   "outputs": [],
   "source": [
    "clusterer = KMeans(n_clusters=4, random_state=10)\n",
    "clusterer = clusterer.fit(X_train)\n",
    "preds = clusterer.predict(X_train)"
   ]
  },
  {
   "cell_type": "markdown",
   "metadata": {},
   "source": [
    "2.b) Majority for each label"
   ]
  },
  {
   "cell_type": "markdown",
   "metadata": {},
   "source": [
    "For Family"
   ]
  },
  {
   "cell_type": "code",
   "execution_count": 38,
   "metadata": {},
   "outputs": [],
   "source": [
    "cluster0_family=data['Family'][clusterer.labels_==0]\n",
    "cluster1_family=data['Family'][clusterer.labels_==1]\n",
    "cluster2_family=data['Family'][clusterer.labels_==2]\n",
    "cluster3_family=data['Family'][clusterer.labels_==3]"
   ]
  },
  {
   "cell_type": "code",
   "execution_count": 39,
   "metadata": {},
   "outputs": [
    {
     "name": "stdout",
     "output_type": "stream",
     "text": [
      "[('Leptodactylidae', 3467)]\n"
     ]
    }
   ],
   "source": [
    "count=Counter(cluster0_family)\n",
    "print(count.most_common(1))"
   ]
  },
  {
   "cell_type": "code",
   "execution_count": 40,
   "metadata": {},
   "outputs": [
    {
     "name": "stdout",
     "output_type": "stream",
     "text": [
      "[('Hylidae', 1245)]\n"
     ]
    }
   ],
   "source": [
    "count=Counter(cluster1_family)\n",
    "print(count.most_common(1))"
   ]
  },
  {
   "cell_type": "code",
   "execution_count": 41,
   "metadata": {},
   "outputs": [
    {
     "name": "stdout",
     "output_type": "stream",
     "text": [
      "[('Dendrobatidae', 500)]\n"
     ]
    }
   ],
   "source": [
    "count=Counter(cluster2_family)\n",
    "print(count.most_common(1))"
   ]
  },
  {
   "cell_type": "code",
   "execution_count": 42,
   "metadata": {},
   "outputs": [
    {
     "name": "stdout",
     "output_type": "stream",
     "text": [
      "[('Hylidae', 590)]\n"
     ]
    }
   ],
   "source": [
    "count=Counter(cluster3_family)\n",
    "print(count.most_common(1))"
   ]
  },
  {
   "cell_type": "markdown",
   "metadata": {},
   "source": [
    "For Genus"
   ]
  },
  {
   "cell_type": "code",
   "execution_count": 43,
   "metadata": {},
   "outputs": [],
   "source": [
    "cluster0_genus=data['Genus'][clusterer.labels_==0]\n",
    "cluster1_genus=data['Genus'][clusterer.labels_==1]\n",
    "cluster2_genus=data['Genus'][clusterer.labels_==2]\n",
    "cluster3_genus=data['Genus'][clusterer.labels_==3]"
   ]
  },
  {
   "cell_type": "code",
   "execution_count": 44,
   "metadata": {},
   "outputs": [
    {
     "name": "stdout",
     "output_type": "stream",
     "text": [
      "[('Adenomera', 3466)]\n"
     ]
    }
   ],
   "source": [
    "count=Counter(cluster0_genus)\n",
    "print(count.most_common(1))"
   ]
  },
  {
   "cell_type": "code",
   "execution_count": 45,
   "metadata": {},
   "outputs": [
    {
     "name": "stdout",
     "output_type": "stream",
     "text": [
      "[('Hypsiboas', 1038)]\n"
     ]
    }
   ],
   "source": [
    "count=Counter(cluster1_genus)\n",
    "print(count.most_common(1))"
   ]
  },
  {
   "cell_type": "code",
   "execution_count": 46,
   "metadata": {},
   "outputs": [
    {
     "name": "stdout",
     "output_type": "stream",
     "text": [
      "[('Ameerega', 500)]\n"
     ]
    }
   ],
   "source": [
    "count=Counter(cluster2_genus)\n",
    "print(count.most_common(1))"
   ]
  },
  {
   "cell_type": "code",
   "execution_count": 47,
   "metadata": {},
   "outputs": [
    {
     "name": "stdout",
     "output_type": "stream",
     "text": [
      "[('Hypsiboas', 542)]\n"
     ]
    }
   ],
   "source": [
    "count=Counter(cluster3_genus)\n",
    "print(count.most_common(1))"
   ]
  },
  {
   "cell_type": "markdown",
   "metadata": {},
   "source": [
    "For Species"
   ]
  },
  {
   "cell_type": "code",
   "execution_count": 48,
   "metadata": {},
   "outputs": [],
   "source": [
    "cluster0_species=data['Species'][clusterer.labels_==0]\n",
    "cluster1_species=data['Species'][clusterer.labels_==1]\n",
    "cluster2_species=data['Species'][clusterer.labels_==2]\n",
    "cluster3_species=data['Species'][clusterer.labels_==3]"
   ]
  },
  {
   "cell_type": "code",
   "execution_count": 49,
   "metadata": {},
   "outputs": [
    {
     "name": "stdout",
     "output_type": "stream",
     "text": [
      "[('AdenomeraHylaedactylus', 3466)]\n"
     ]
    }
   ],
   "source": [
    "count=Counter(cluster0_species)\n",
    "print(count.most_common(1))"
   ]
  },
  {
   "cell_type": "code",
   "execution_count": 50,
   "metadata": {},
   "outputs": [
    {
     "name": "stdout",
     "output_type": "stream",
     "text": [
      "[('HypsiboasCordobae', 1018)]\n"
     ]
    }
   ],
   "source": [
    "count=Counter(cluster1_species)\n",
    "print(count.most_common(1))"
   ]
  },
  {
   "cell_type": "code",
   "execution_count": 51,
   "metadata": {},
   "outputs": [
    {
     "name": "stdout",
     "output_type": "stream",
     "text": [
      "[('Ameeregatrivittata', 500)]\n"
     ]
    }
   ],
   "source": [
    "count=Counter(cluster2_species)\n",
    "print(count.most_common(1))"
   ]
  },
  {
   "cell_type": "code",
   "execution_count": 52,
   "metadata": {},
   "outputs": [
    {
     "name": "stdout",
     "output_type": "stream",
     "text": [
      "[('HypsiboasCinerascens', 452)]\n"
     ]
    }
   ],
   "source": [
    "count=Counter(cluster3_species)\n",
    "print(count.most_common(1))"
   ]
  },
  {
   "cell_type": "code",
   "execution_count": 53,
   "metadata": {},
   "outputs": [],
   "source": [
    "labels = clusterer.labels_\n",
    "labels = pd.DataFrame(labels,columns=['cluster_num'])"
   ]
  },
  {
   "cell_type": "code",
   "execution_count": 54,
   "metadata": {},
   "outputs": [],
   "source": [
    "data.reset_index(drop=True, inplace=True)\n",
    "labels.reset_index(drop=True, inplace=True)\n",
    "data_clustered = pd.concat([data,labels],axis=1)"
   ]
  },
  {
   "cell_type": "code",
   "execution_count": 55,
   "metadata": {},
   "outputs": [],
   "source": [
    "data_clustered_sorted = data_clustered.sort_values(['cluster_num'], ascending=[1])\n",
    "cluster_0_df = data_clustered_sorted.loc[data_clustered_sorted['cluster_num'] == 0]\n",
    "cluster_1_df = data_clustered_sorted.loc[data_clustered_sorted['cluster_num'] == 1]\n",
    "cluster_2_df = data_clustered_sorted.loc[data_clustered_sorted['cluster_num'] == 2]\n",
    "cluster_3_df = data_clustered_sorted.loc[data_clustered_sorted['cluster_num'] == 3]"
   ]
  },
  {
   "cell_type": "code",
   "execution_count": null,
   "metadata": {},
   "outputs": [],
   "source": [
    "cluster_0_df['pred_Family']=cluster_0_df['Family'].mode()[0]\n",
    "cluster_0_df['pred_Genus']=cluster_0_df['Genus'].mode()[0]\n",
    "cluster_0_df['pred_Species']=cluster_0_df['Species'].mode()[0]\n",
    "\n",
    "cluster_1_df['pred_Family']=cluster_1_df['Family'].mode()[0]\n",
    "cluster_1_df['pred_Genus']=cluster_1_df['Genus'].mode()[0]\n",
    "cluster_1_df['pred_Species']=cluster_1_df['Species'].mode()[0]\n",
    "\n",
    "cluster_2_df['pred_Family']=cluster_2_df['Family'].mode()[0]\n",
    "cluster_2_df['pred_Genus']=cluster_2_df['Genus'].mode()[0]\n",
    "cluster_2_df['pred_Species']=cluster_2_df['Species'].mode()[0]\n",
    "\n",
    "cluster_3_df['pred_Family']=cluster_3_df['Family'].mode()[0]\n",
    "cluster_3_df['pred_Genus']=cluster_3_df['Genus'].mode()[0]\n",
    "cluster_3_df['pred_Species']=cluster_3_df['Species'].mode()[0]"
   ]
  },
  {
   "cell_type": "code",
   "execution_count": 57,
   "metadata": {},
   "outputs": [],
   "source": [
    "mapping_families = {'Bufonidae': 0, 'Dendrobatidae': 1, 'Hylidae':2, 'Leptodactylidae':3}\n",
    "mapping_genus = {'Adenomera': 0, 'Ameerega': 1, 'Dendropsophus':2, 'Hypsiboas':3, 'Leptodactylus': 4, 'Osteocephalus': 5, 'Rhinella':6, 'Scinax':7}\n",
    "mapping_species = {'AdenomeraAndre':0,'AdenomeraHylaedactylus': 1, 'Ameeregatrivittata':2, 'HylaMinuta':3, 'HypsiboasCinerascens': 4, 'HypsiboasCordobae':5 , 'LeptodactylusFuscus':6, 'OsteocephalusOophagus' :7,'Rhinellagranulosa':8,'ScinaxRuber':9 }"
   ]
  },
  {
   "cell_type": "code",
   "execution_count": 58,
   "metadata": {},
   "outputs": [],
   "source": [
    "cluster_0_df=cluster_0_df.replace(mapping_families).replace(mapping_genus).replace(mapping_species)\n",
    "cluster_1_df=cluster_1_df.replace(mapping_families).replace(mapping_genus).replace(mapping_species)\n",
    "cluster_2_df=cluster_2_df.replace(mapping_families).replace(mapping_genus).replace(mapping_species)\n",
    "cluster_3_df=cluster_3_df.replace(mapping_families).replace(mapping_genus).replace(mapping_species)"
   ]
  },
  {
   "cell_type": "code",
   "execution_count": null,
   "metadata": {},
   "outputs": [],
   "source": [
    "columns1 = ['Family','Genus','Species']\n",
    "columns2 = ['pred_Family','pred_Genus','pred_Species']\n",
    "\n",
    "cluster0_true_labels = cluster_0_df[columns1].as_matrix()\n",
    "cluster0_pred_labels = cluster_0_df[columns2].as_matrix()\n",
    "\n",
    "cluster1_true_labels = cluster_1_df[columns1].as_matrix()\n",
    "cluster1_pred_labels = cluster_1_df[columns2].as_matrix()\n",
    "\n",
    "cluster2_true_labels = cluster_2_df[columns1].as_matrix()\n",
    "cluster2_pred_labels = cluster_2_df[columns2].as_matrix()\n",
    "\n",
    "cluster3_true_labels = cluster_3_df[columns1].as_matrix()\n",
    "cluster3_pred_labels = cluster_3_df[columns2].as_matrix()"
   ]
  },
  {
   "cell_type": "markdown",
   "metadata": {},
   "source": [
    "2.c) Hamming distance, hamming loss and hamming score for each cluster"
   ]
  },
  {
   "cell_type": "code",
   "execution_count": 60,
   "metadata": {},
   "outputs": [
    {
     "name": "stdout",
     "output_type": "stream",
     "text": [
      "Average Hamming Distance of Cluster 0:  0.028494020926756354\n",
      "Average Hamming Distance of Cluster 1:  0.444836865119408\n",
      "Average Hamming Distance of Cluster 2:  0.5150339476236664\n",
      "Average Hamming Distance of Cluster 3: 0.14006514657980457\n"
     ]
    }
   ],
   "source": [
    "cluster0_Hamming_Distance=[]\n",
    "for i in range(len(cluster0_true_labels)):\n",
    "    cluster0_true_label=cluster0_true_labels[i]\n",
    "    cluster0_pred_label=cluster0_pred_labels[i]\n",
    "    Hamming_Distance=distance.hamming(cluster0_true_label,cluster0_pred_label)\n",
    "    cluster0_Hamming_Distance.append(Hamming_Distance)\n",
    "print(\"Average Hamming Distance of Cluster 0: \",str(mean(cluster0_Hamming_Distance)))\n",
    "\n",
    "cluster1_Hamming_Distance=[]\n",
    "for i in range(len(cluster1_true_labels)):\n",
    "    cluster1_true_label=cluster1_true_labels[i]\n",
    "    cluster1_pred_label=cluster1_pred_labels[i]\n",
    "    Hamming_Distance=distance.hamming(cluster1_true_label,cluster1_pred_label)\n",
    "    cluster1_Hamming_Distance.append(Hamming_Distance)\n",
    "print(\"Average Hamming Distance of Cluster 1: \",str(mean(cluster1_Hamming_Distance)))\n",
    "\n",
    "\n",
    "cluster2_Hamming_Distance=[]\n",
    "for i in range(len(cluster2_true_labels)):\n",
    "    cluster2_true_label=cluster2_true_labels[i]\n",
    "    cluster2_pred_label=cluster2_pred_labels[i]\n",
    "    Hamming_Distance=distance.hamming(cluster2_true_label,cluster2_pred_label)\n",
    "    cluster2_Hamming_Distance.append(Hamming_Distance)\n",
    "print(\"Average Hamming Distance of Cluster 2: \",str(mean(cluster2_Hamming_Distance)))\n",
    "\n",
    "\n",
    "cluster3_Hamming_Distance=[]\n",
    "for i in range(len(cluster3_true_labels)):\n",
    "    cluster3_true_label=cluster3_true_labels[i]\n",
    "    cluster3_pred_label=cluster3_pred_labels[i]\n",
    "    Hamming_Distance=distance.hamming(cluster3_true_label,cluster3_pred_label)\n",
    "    cluster3_Hamming_Distance.append(Hamming_Distance)\n",
    "print(\"Average Hamming Distance of Cluster 3: \"+str(mean(cluster3_Hamming_Distance)))"
   ]
  },
  {
   "cell_type": "code",
   "execution_count": 61,
   "metadata": {},
   "outputs": [
    {
     "name": "stdout",
     "output_type": "stream",
     "text": [
      "Average Hamming Loss of Cluster 0:  0.028494020926756354\n",
      "Average Hamming Loss of Cluster 1:  0.444836865119408\n",
      "Average Hamming Loss of Cluster 2:  0.5150339476236664\n",
      "Average Hamming Loss of Cluster 3:  0.14006514657980457\n"
     ]
    }
   ],
   "source": [
    "cluster0_Hamming_Loss=[]\n",
    "for i in range(len(cluster0_true_labels)):\n",
    "    cluster0_true_label=cluster0_true_labels[i]\n",
    "    cluster0_pred_label=cluster0_pred_labels[i]\n",
    "    Hamming_Loss=hamming_loss(cluster0_true_label,cluster0_pred_label)\n",
    "    cluster0_Hamming_Loss.append(Hamming_Loss)\n",
    "print(\"Average Hamming Loss of Cluster 0: \",str(mean(cluster0_Hamming_Loss)))\n",
    "\n",
    "cluster1_Hamming_Loss=[]\n",
    "for i in range(len(cluster1_true_labels)):\n",
    "    cluster1_true_label=cluster1_true_labels[i]\n",
    "    cluster1_pred_label=cluster1_pred_labels[i]\n",
    "    Hamming_Loss=hamming_loss(cluster1_true_label,cluster1_pred_label)\n",
    "    cluster1_Hamming_Loss.append(Hamming_Loss)\n",
    "print(\"Average Hamming Loss of Cluster 1: \",str(mean(cluster1_Hamming_Loss)))\n",
    "\n",
    "cluster2_Hamming_Loss=[]\n",
    "for i in range(len(cluster2_true_labels)):\n",
    "    cluster2_true_label=cluster2_true_labels[i]\n",
    "    cluster2_pred_label=cluster2_pred_labels[i]\n",
    "    Hamming_Loss=hamming_loss(cluster2_true_label,cluster2_pred_label)\n",
    "    cluster2_Hamming_Loss.append(Hamming_Loss)\n",
    "print(\"Average Hamming Loss of Cluster 2: \",str(mean(cluster2_Hamming_Loss)))\n",
    "\n",
    "cluster3_Hamming_Loss=[]\n",
    "for i in range(len(cluster3_true_labels)):\n",
    "    cluster3_true_label=cluster3_true_labels[i]\n",
    "    cluster3_pred_label=cluster3_pred_labels[i]\n",
    "    Hamming_Loss=hamming_loss(cluster3_true_label,cluster3_pred_label)\n",
    "    cluster3_Hamming_Loss.append(Hamming_Loss)\n",
    "print(\"Average Hamming Loss of Cluster 3: \",str(mean(cluster3_Hamming_Loss)))"
   ]
  },
  {
   "cell_type": "code",
   "execution_count": 62,
   "metadata": {},
   "outputs": [
    {
     "name": "stdout",
     "output_type": "stream",
     "text": [
      "Average Hamming Score of Cluster 0:  0.9781670403587444\n",
      "Average Hamming Score of Cluster 1:  0.6374032963336697\n",
      "Average Hamming Score of Cluster 2:  0.5557710960232783\n",
      "Average Hamming Score of Cluster 3:  0.8376221498371335\n"
     ]
    }
   ],
   "source": [
    "acc_list0 = []\n",
    "for i in range(len(cluster0_true_labels)):\n",
    "    set_true = set(cluster0_true_labels[i])\n",
    "    set_pred = set(cluster0_pred_labels[i])\n",
    "    tmp_a = None\n",
    "    tmp_a = len(set_true.intersection(set_pred))/\\\n",
    "                    len(set_true.union(set_pred))\n",
    "    acc_list0.append(tmp_a)\n",
    "print(\"Average Hamming Score of Cluster 0: \",np.mean(acc_list0))\n",
    "\n",
    "acc_list1 = []\n",
    "for i in range(len(cluster1_true_labels)):\n",
    "    set_true = set(cluster1_true_labels[i])\n",
    "    set_pred = set(cluster1_pred_labels[i])\n",
    "    tmp_a = None\n",
    "    tmp_a = len(set_true.intersection(set_pred))/\\\n",
    "                    len(set_true.union(set_pred))\n",
    "    acc_list1.append(tmp_a)\n",
    "print(\"Average Hamming Score of Cluster 1: \",np.mean(acc_list1))\n",
    "\n",
    "acc_list2 = []\n",
    "for i in range(len(cluster2_true_labels)):\n",
    "    set_true = set(cluster2_true_labels[i])\n",
    "    set_pred = set(cluster2_pred_labels[i])\n",
    "    tmp_a = None\n",
    "    tmp_a = len(set_true.intersection(set_pred))/\\\n",
    "                    len(set_true.union(set_pred))\n",
    "    acc_list2.append(tmp_a)\n",
    "print(\"Average Hamming Score of Cluster 2: \",np.mean(acc_list2))\n",
    "\n",
    "acc_list3 = []\n",
    "for i in range(len(cluster3_true_labels)):\n",
    "    set_true = set(cluster3_true_labels[i])\n",
    "    set_pred = set(cluster3_pred_labels[i])\n",
    "    tmp_a = None\n",
    "    tmp_a = len(set_true.intersection(set_pred))/\\\n",
    "                    len(set_true.union(set_pred))\n",
    "    acc_list3.append(tmp_a)\n",
    "print(\"Average Hamming Score of Cluster 3: \",np.mean(acc_list3))"
   ]
  }
 ],
 "metadata": {
  "kernelspec": {
   "display_name": "Python 3",
   "language": "python",
   "name": "python3"
  },
  "language_info": {
   "codemirror_mode": {
    "name": "ipython",
    "version": 3
   },
   "file_extension": ".py",
   "mimetype": "text/x-python",
   "name": "python",
   "nbconvert_exporter": "python",
   "pygments_lexer": "ipython3",
   "version": "3.7.1"
  }
 },
 "nbformat": 4,
 "nbformat_minor": 2
}
